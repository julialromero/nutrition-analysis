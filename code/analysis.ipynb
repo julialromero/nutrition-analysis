{
 "cells": [
  {
   "cell_type": "code",
   "execution_count": 7,
   "outputs": [],
   "source": [
    "# packages\n",
    "import pandas as pd\n",
    "import json\n",
    "import glob"
   ],
   "metadata": {
    "collapsed": false,
    "pycharm": {
     "name": "#%%\n"
    }
   }
  },
  {
   "cell_type": "code",
   "execution_count": 2,
   "outputs": [
    {
     "data": {
      "text/plain": "'1.2.3'"
     },
     "execution_count": 2,
     "metadata": {},
     "output_type": "execute_result"
    }
   ],
   "source": [
    "pd.__version__"
   ],
   "metadata": {
    "collapsed": false,
    "pycharm": {
     "name": "#%%\n"
    }
   }
  },
  {
   "cell_type": "code",
   "execution_count": 12,
   "outputs": [
    {
     "name": "stdout",
     "output_type": "stream",
     "text": [
      "data/mfp-diaries/1.json\n",
      "data/mfp-diaries/2.json\n",
      "data/mfp-diaries/3.json\n",
      "data/mfp-diaries/4.json\n",
      "data/mfp-diaries/5.json\n",
      "data/mfp-diaries/6.json\n",
      "Length mismatch: Expected axis has 4 elements, new values have 6 elements\n"
     ]
    }
   ],
   "source": [
    "try:\n",
    "    dfall = pd.DataFrame()\n",
    "    for filepath in glob.iglob(r'data/mfp-diaries/*'):\n",
    "        print(filepath)\n",
    "        with open (filepath) as f:\n",
    "            data = json.loads(f.read())\n",
    "        f.close()\n",
    "\n",
    "        df = pd.json_normalize(data)\n",
    "\n",
    "        df0 = pd.concat({i: pd.DataFrame(x) for i, x in df.pop('summary.total').items()})\n",
    "        df0.columns=['total.calories','total.carbs','total.fat','total.protein','total.sodium','total.sugar']\n",
    "\n",
    "        df1 = pd.concat({i: pd.DataFrame(x) for i, x in df.pop('summary.goal').items()})\n",
    "        df1.columns = ['goal.calories', 'goal.carbs', 'goal.fat', 'goal.protein', 'goal.sodium', 'goal.sugar']\n",
    "\n",
    "        df2 = df0.join(df1)\n",
    "\n",
    "        df3 = (df2\n",
    "               .reset_index(level=1, drop=True)\n",
    "               .join(df)\n",
    "               .reset_index(drop=True))\n",
    "\n",
    "        df4 = df.join(df3.groupby(by=['id', 'date']).sum().reset_index(drop=True))\n",
    "\n",
    "        pd.concat([dfall,df4], ignore_index=True)\n",
    "\n",
    "    print(dfall.info())\n",
    "except ValueError as error:\n",
    "    print(str(error))"
   ],
   "metadata": {
    "collapsed": false,
    "pycharm": {
     "name": "#%%\n"
    }
   }
  },
  {
   "cell_type": "code",
   "execution_count": 4,
   "outputs": [
    {
     "name": "stdout",
     "output_type": "stream",
     "text": [
      "test\n"
     ]
    }
   ],
   "source": [
    "print(\"test\")\n",
    "\n"
   ],
   "metadata": {
    "collapsed": false,
    "pycharm": {
     "name": "#%%\n"
    }
   }
  }
 ],
 "metadata": {
  "kernelspec": {
   "display_name": "Python 3",
   "language": "python",
   "name": "python3"
  },
  "language_info": {
   "codemirror_mode": {
    "name": "ipython",
    "version": 2
   },
   "file_extension": ".py",
   "mimetype": "text/x-python",
   "name": "python",
   "nbconvert_exporter": "python",
   "pygments_lexer": "ipython2",
   "version": "2.7.6"
  }
 },
 "nbformat": 4,
 "nbformat_minor": 0
}