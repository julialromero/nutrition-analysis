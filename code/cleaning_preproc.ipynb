{
 "cells": [
  {
   "cell_type": "code",
   "execution_count": 1,
   "metadata": {},
   "outputs": [],
   "source": [
    "import numpy as np \n",
    "import pandas as pd \n",
    "import seaborn as sns\n",
    "import matplotlib.pyplot as plt\n",
    "import os\n",
    "import bz2\n",
    "import _pickle as cPickle"
   ]
  },
  {
   "cell_type": "code",
   "execution_count": 2,
   "metadata": {},
   "outputs": [],
   "source": [
    "from jupyterthemes import jtplot\n",
    "jtplot.style(theme='default', context='notebook', ticks=True, grid=False)\n",
    "plt.style.use('default')"
   ]
  },
  {
   "cell_type": "code",
   "execution_count": 220,
   "metadata": {},
   "outputs": [],
   "source": [
    "filepath = '../data/mfp-diaries.tsv'\n",
    "\n",
    "# import dataset as pandas.DataFrame\n",
    "import json\n",
    "with open(filepath) as f:\n",
    "    data = pd.read_csv(f, sep='\\t', header = None)\n",
    "\n",
    "data.rename(columns = {0: 'user_id', 1: 'date', 2: 'food_entries', 3: 'intakes_goals'}, inplace=True)"
   ]
  },
  {
   "cell_type": "code",
   "execution_count": 4,
   "metadata": {},
   "outputs": [],
   "source": [
    "# read i-th row\n",
    "i = 40000\n",
    "user_id = data.iloc[i,0]\n",
    "date = data.iloc[i,1]\n",
    "food_entries = json.loads(data.iloc[i, 2])\n",
    "aggregate_intake_goal = json.loads(data.iloc[i,3])"
   ]
  },
  {
   "cell_type": "code",
   "execution_count": 5,
   "metadata": {},
   "outputs": [
    {
     "data": {
      "text/plain": [
       "674"
      ]
     },
     "execution_count": 5,
     "metadata": {},
     "output_type": "execute_result"
    }
   ],
   "source": [
    "user_id"
   ]
  },
  {
   "cell_type": "code",
   "execution_count": 6,
   "metadata": {},
   "outputs": [
    {
     "data": {
      "text/plain": [
       "'2015-02-25'"
      ]
     },
     "execution_count": 6,
     "metadata": {},
     "output_type": "execute_result"
    }
   ],
   "source": [
    "date"
   ]
  },
  {
   "cell_type": "code",
   "execution_count": 7,
   "metadata": {
    "collapsed": true
   },
   "outputs": [
    {
     "data": {
      "text/plain": [
       "[{'meal': 'Breakfast',\n",
       "  'dishes': [{'nutritions': [{'name': 'Calories', 'value': '2'},\n",
       "     {'name': 'Carbs', 'value': '0'},\n",
       "     {'name': 'Sat Fat', 'value': '0'},\n",
       "     {'name': 'Protein', 'value': '0'},\n",
       "     {'name': 'Chol', 'value': '0'},\n",
       "     {'name': 'Vit C', 'value': '0'}],\n",
       "    'name': 'Coffee - Brewed from grounds, 1 cup (8 fl oz)'},\n",
       "   {'nutritions': [{'name': 'Calories', 'value': '27'},\n",
       "     {'name': 'Carbs', 'value': '0'},\n",
       "     {'name': 'Sat Fat', 'value': '1'},\n",
       "     {'name': 'Protein', 'value': '0'},\n",
       "     {'name': 'Chol', 'value': '0'},\n",
       "     {'name': 'Vit C', 'value': '0'}],\n",
       "    'name': 'Deli Continental - Smooth Reduced Fat Brussels Pâté, 13 g'},\n",
       "   {'nutritions': [{'name': 'Calories', 'value': '58'},\n",
       "     {'name': 'Carbs', 'value': '11'},\n",
       "     {'name': 'Sat Fat', 'value': '0'},\n",
       "     {'name': 'Protein', 'value': '2'},\n",
       "     {'name': 'Chol', 'value': '0'},\n",
       "     {'name': 'Vit C', 'value': '0'}],\n",
       "    'name': 'Greenhalghs - Honey and Sunflower Bread, 1 slice from small 400g loaf'}],\n",
       "  'sequence': 1},\n",
       " {'meal': 'Lunch',\n",
       "  'dishes': [{'nutritions': [{'name': 'Calories', 'value': '319'},\n",
       "     {'name': 'Carbs', 'value': '42'},\n",
       "     {'name': 'Sat Fat', 'value': '2'},\n",
       "     {'name': 'Protein', 'value': '17'},\n",
       "     {'name': 'Chol', 'value': '0'},\n",
       "     {'name': 'Vit C', 'value': '0'}],\n",
       "    'name': 'Asda - Good & balanced Turkey & Coleslaw Salad Sandwich, 1 pack'}],\n",
       "  'sequence': 2},\n",
       " {'meal': 'Dinner',\n",
       "  'dishes': [{'nutritions': [{'name': 'Calories', 'value': '454'},\n",
       "     {'name': 'Carbs', 'value': '66'},\n",
       "     {'name': 'Sat Fat', 'value': '1'},\n",
       "     {'name': 'Protein', 'value': '17'},\n",
       "     {'name': 'Chol', 'value': '2'},\n",
       "     {'name': 'Vit C', 'value': '4'}],\n",
       "    'name': 'Quick chickpea pasta, 1 serving(s)'},\n",
       "   {'nutritions': [{'name': 'Calories', 'value': '21'},\n",
       "     {'name': 'Carbs', 'value': '0'},\n",
       "     {'name': 'Sat Fat', 'value': '1'},\n",
       "     {'name': 'Protein', 'value': '2'},\n",
       "     {'name': 'Chol', 'value': '4'},\n",
       "     {'name': 'Vit C', 'value': '0'}],\n",
       "    'name': 'Cheese - Parmesan, shredded, 1 tbsp'}],\n",
       "  'sequence': 3},\n",
       " {'meal': 'Snacks',\n",
       "  'dishes': [{'nutritions': [{'name': 'Calories', 'value': '100'},\n",
       "     {'name': 'Carbs', 'value': '18'},\n",
       "     {'name': 'Sat Fat', 'value': '0'},\n",
       "     {'name': 'Protein', 'value': '2'},\n",
       "     {'name': 'Chol', 'value': '0'},\n",
       "     {'name': 'Vit C', 'value': '0'}],\n",
       "    'name': 'Riskager - Paprika Rice Cake, 2 rice cake'},\n",
       "   {'nutritions': [{'name': 'Calories', 'value': '50'},\n",
       "     {'name': 'Carbs', 'value': '11'},\n",
       "     {'name': 'Sat Fat', 'value': '0'},\n",
       "     {'name': 'Protein', 'value': '0'},\n",
       "     {'name': 'Chol', 'value': '0'},\n",
       "     {'name': 'Vit C', 'value': '0'}],\n",
       "    'name': 'Venco - Drop, 15 gram (2 stuks)'},\n",
       "   {'nutritions': [{'name': 'Calories', 'value': '171'},\n",
       "     {'name': 'Carbs', 'value': '28'},\n",
       "     {'name': 'Sat Fat', 'value': '4'},\n",
       "     {'name': 'Protein', 'value': '2'},\n",
       "     {'name': 'Chol', 'value': '0'},\n",
       "     {'name': 'Vit C', 'value': '0'}],\n",
       "    'name': 'Cadbury Creme Egg Nz - Creme Egg, 1 egg'},\n",
       "   {'nutritions': [{'name': 'Calories', 'value': '36'},\n",
       "     {'name': 'Carbs', 'value': '6'},\n",
       "     {'name': 'Sat Fat', 'value': '1'},\n",
       "     {'name': 'Protein', 'value': '0'},\n",
       "     {'name': 'Chol', 'value': '0'},\n",
       "     {'name': 'Vit C', 'value': '0'}],\n",
       "    'name': 'Lotus - the Original Caramelised Biscuit (7.5g), 1 Biscuit'},\n",
       "   {'nutritions': [{'name': 'Calories', 'value': '40'},\n",
       "     {'name': 'Carbs', 'value': '6'},\n",
       "     {'name': 'Sat Fat', 'value': '2'},\n",
       "     {'name': 'Protein', 'value': '1'},\n",
       "     {'name': 'Chol', 'value': '0'},\n",
       "     {'name': 'Vit C', 'value': '0'}],\n",
       "    'name': 'Weightwatchers - Instant Hot Chocolate Sachet, 1 mug'}],\n",
       "  'sequence': 4}]"
      ]
     },
     "execution_count": 7,
     "metadata": {},
     "output_type": "execute_result"
    }
   ],
   "source": [
    "food_entries"
   ]
  },
  {
   "cell_type": "code",
   "execution_count": 10,
   "metadata": {},
   "outputs": [
    {
     "data": {
      "text/plain": [
       "{'total': [{'name': 'Calories', 'value': 1278},\n",
       "  {'name': 'Carbs', 'value': 188},\n",
       "  {'name': 'Sat Fat', 'value': 12},\n",
       "  {'name': 'Protein', 'value': 43},\n",
       "  {'name': 'Chol', 'value': 6},\n",
       "  {'name': 'Vit C', 'value': 4}],\n",
       " 'goal': [{'name': 'Calories', 'value': 1310},\n",
       "  {'name': 'Carbs', 'value': 164},\n",
       "  {'name': 'Sat Fat', 'value': 15},\n",
       "  {'name': 'Protein', 'value': 66},\n",
       "  {'name': 'Chol', 'value': 300},\n",
       "  {'name': 'Vit C', 'value': 100}]}"
      ]
     },
     "execution_count": 10,
     "metadata": {},
     "output_type": "execute_result"
    }
   ],
   "source": [
    "aggregate_intake_goal"
   ]
  },
  {
   "cell_type": "code",
   "execution_count": 190,
   "metadata": {
    "collapsed": true
   },
   "outputs": [
    {
     "ename": "KeyError",
     "evalue": "2",
     "output_type": "error",
     "traceback": [
      "\u001b[0;31m---------------------------------------------------------------------------\u001b[0m",
      "\u001b[0;31mKeyError\u001b[0m                                  Traceback (most recent call last)",
      "\u001b[0;32m~/anaconda3/lib/python3.8/site-packages/pandas/core/indexes/base.py\u001b[0m in \u001b[0;36mget_loc\u001b[0;34m(self, key, method, tolerance)\u001b[0m\n\u001b[1;32m   3079\u001b[0m             \u001b[0;32mtry\u001b[0m\u001b[0;34m:\u001b[0m\u001b[0;34m\u001b[0m\u001b[0;34m\u001b[0m\u001b[0m\n\u001b[0;32m-> 3080\u001b[0;31m                 \u001b[0;32mreturn\u001b[0m \u001b[0mself\u001b[0m\u001b[0;34m.\u001b[0m\u001b[0m_engine\u001b[0m\u001b[0;34m.\u001b[0m\u001b[0mget_loc\u001b[0m\u001b[0;34m(\u001b[0m\u001b[0mcasted_key\u001b[0m\u001b[0;34m)\u001b[0m\u001b[0;34m\u001b[0m\u001b[0;34m\u001b[0m\u001b[0m\n\u001b[0m\u001b[1;32m   3081\u001b[0m             \u001b[0;32mexcept\u001b[0m \u001b[0mKeyError\u001b[0m \u001b[0;32mas\u001b[0m \u001b[0merr\u001b[0m\u001b[0;34m:\u001b[0m\u001b[0;34m\u001b[0m\u001b[0;34m\u001b[0m\u001b[0m\n",
      "\u001b[0;32mpandas/_libs/index.pyx\u001b[0m in \u001b[0;36mpandas._libs.index.IndexEngine.get_loc\u001b[0;34m()\u001b[0m\n",
      "\u001b[0;32mpandas/_libs/index.pyx\u001b[0m in \u001b[0;36mpandas._libs.index.IndexEngine.get_loc\u001b[0;34m()\u001b[0m\n",
      "\u001b[0;32mpandas/_libs/hashtable_class_helper.pxi\u001b[0m in \u001b[0;36mpandas._libs.hashtable.Int64HashTable.get_item\u001b[0;34m()\u001b[0m\n",
      "\u001b[0;32mpandas/_libs/hashtable_class_helper.pxi\u001b[0m in \u001b[0;36mpandas._libs.hashtable.Int64HashTable.get_item\u001b[0;34m()\u001b[0m\n",
      "\u001b[0;31mKeyError\u001b[0m: 2",
      "\nThe above exception was the direct cause of the following exception:\n",
      "\u001b[0;31mKeyError\u001b[0m                                  Traceback (most recent call last)",
      "\u001b[0;32m<ipython-input-190-c22dce7fd0c8>\u001b[0m in \u001b[0;36m<module>\u001b[0;34m\u001b[0m\n\u001b[1;32m     10\u001b[0m \u001b[0;31m#loop over all values and create a folder for each possible date\u001b[0m\u001b[0;34m\u001b[0m\u001b[0;34m\u001b[0m\u001b[0;34m\u001b[0m\u001b[0m\n\u001b[1;32m     11\u001b[0m \u001b[0;32mfor\u001b[0m \u001b[0mi\u001b[0m \u001b[0;32min\u001b[0m \u001b[0mrange\u001b[0m\u001b[0;34m(\u001b[0m\u001b[0mdata\u001b[0m\u001b[0;34m.\u001b[0m\u001b[0mshape\u001b[0m\u001b[0;34m[\u001b[0m\u001b[0;36m0\u001b[0m\u001b[0;34m]\u001b[0m\u001b[0;34m)\u001b[0m\u001b[0;34m:\u001b[0m\u001b[0;34m\u001b[0m\u001b[0;34m\u001b[0m\u001b[0m\n\u001b[0;32m---> 12\u001b[0;31m     \u001b[0mthis_path\u001b[0m \u001b[0;34m=\u001b[0m \u001b[0msubpath\u001b[0m \u001b[0;34m+\u001b[0m \u001b[0mos\u001b[0m\u001b[0;34m.\u001b[0m\u001b[0msep\u001b[0m \u001b[0;34m+\u001b[0m \u001b[0mstr\u001b[0m\u001b[0;34m(\u001b[0m\u001b[0mdata\u001b[0m\u001b[0;34m.\u001b[0m\u001b[0muser_id\u001b[0m\u001b[0;34m[\u001b[0m\u001b[0mi\u001b[0m\u001b[0;34m]\u001b[0m\u001b[0;34m)\u001b[0m \u001b[0;34m+\u001b[0m \u001b[0mos\u001b[0m\u001b[0;34m.\u001b[0m\u001b[0msep\u001b[0m \u001b[0;34m+\u001b[0m \u001b[0mstr\u001b[0m\u001b[0;34m(\u001b[0m\u001b[0mdata\u001b[0m\u001b[0;34m.\u001b[0m\u001b[0mdate\u001b[0m\u001b[0;34m[\u001b[0m\u001b[0mi\u001b[0m\u001b[0;34m]\u001b[0m\u001b[0;34m)\u001b[0m \u001b[0;34m+\u001b[0m \u001b[0mos\u001b[0m\u001b[0;34m.\u001b[0m\u001b[0msep\u001b[0m\u001b[0;34m\u001b[0m\u001b[0;34m\u001b[0m\u001b[0m\n\u001b[0m\u001b[1;32m     13\u001b[0m     \u001b[0mcreate_folder\u001b[0m\u001b[0;34m(\u001b[0m\u001b[0mthis_path\u001b[0m\u001b[0;34m)\u001b[0m\u001b[0;34m\u001b[0m\u001b[0;34m\u001b[0m\u001b[0m\n\u001b[1;32m     14\u001b[0m \u001b[0;34m\u001b[0m\u001b[0m\n",
      "\u001b[0;32m~/anaconda3/lib/python3.8/site-packages/pandas/core/series.py\u001b[0m in \u001b[0;36m__getitem__\u001b[0;34m(self, key)\u001b[0m\n\u001b[1;32m    851\u001b[0m \u001b[0;34m\u001b[0m\u001b[0m\n\u001b[1;32m    852\u001b[0m         \u001b[0;32melif\u001b[0m \u001b[0mkey_is_scalar\u001b[0m\u001b[0;34m:\u001b[0m\u001b[0;34m\u001b[0m\u001b[0;34m\u001b[0m\u001b[0m\n\u001b[0;32m--> 853\u001b[0;31m             \u001b[0;32mreturn\u001b[0m \u001b[0mself\u001b[0m\u001b[0;34m.\u001b[0m\u001b[0m_get_value\u001b[0m\u001b[0;34m(\u001b[0m\u001b[0mkey\u001b[0m\u001b[0;34m)\u001b[0m\u001b[0;34m\u001b[0m\u001b[0;34m\u001b[0m\u001b[0m\n\u001b[0m\u001b[1;32m    854\u001b[0m \u001b[0;34m\u001b[0m\u001b[0m\n\u001b[1;32m    855\u001b[0m         \u001b[0;32mif\u001b[0m \u001b[0mis_hashable\u001b[0m\u001b[0;34m(\u001b[0m\u001b[0mkey\u001b[0m\u001b[0;34m)\u001b[0m\u001b[0;34m:\u001b[0m\u001b[0;34m\u001b[0m\u001b[0;34m\u001b[0m\u001b[0m\n",
      "\u001b[0;32m~/anaconda3/lib/python3.8/site-packages/pandas/core/series.py\u001b[0m in \u001b[0;36m_get_value\u001b[0;34m(self, label, takeable)\u001b[0m\n\u001b[1;32m    959\u001b[0m \u001b[0;34m\u001b[0m\u001b[0m\n\u001b[1;32m    960\u001b[0m         \u001b[0;31m# Similar to Index.get_value, but we do not fall back to positional\u001b[0m\u001b[0;34m\u001b[0m\u001b[0;34m\u001b[0m\u001b[0;34m\u001b[0m\u001b[0m\n\u001b[0;32m--> 961\u001b[0;31m         \u001b[0mloc\u001b[0m \u001b[0;34m=\u001b[0m \u001b[0mself\u001b[0m\u001b[0;34m.\u001b[0m\u001b[0mindex\u001b[0m\u001b[0;34m.\u001b[0m\u001b[0mget_loc\u001b[0m\u001b[0;34m(\u001b[0m\u001b[0mlabel\u001b[0m\u001b[0;34m)\u001b[0m\u001b[0;34m\u001b[0m\u001b[0;34m\u001b[0m\u001b[0m\n\u001b[0m\u001b[1;32m    962\u001b[0m         \u001b[0;32mreturn\u001b[0m \u001b[0mself\u001b[0m\u001b[0;34m.\u001b[0m\u001b[0mindex\u001b[0m\u001b[0;34m.\u001b[0m\u001b[0m_get_values_for_loc\u001b[0m\u001b[0;34m(\u001b[0m\u001b[0mself\u001b[0m\u001b[0;34m,\u001b[0m \u001b[0mloc\u001b[0m\u001b[0;34m,\u001b[0m \u001b[0mlabel\u001b[0m\u001b[0;34m)\u001b[0m\u001b[0;34m\u001b[0m\u001b[0;34m\u001b[0m\u001b[0m\n\u001b[1;32m    963\u001b[0m \u001b[0;34m\u001b[0m\u001b[0m\n",
      "\u001b[0;32m~/anaconda3/lib/python3.8/site-packages/pandas/core/indexes/base.py\u001b[0m in \u001b[0;36mget_loc\u001b[0;34m(self, key, method, tolerance)\u001b[0m\n\u001b[1;32m   3080\u001b[0m                 \u001b[0;32mreturn\u001b[0m \u001b[0mself\u001b[0m\u001b[0;34m.\u001b[0m\u001b[0m_engine\u001b[0m\u001b[0;34m.\u001b[0m\u001b[0mget_loc\u001b[0m\u001b[0;34m(\u001b[0m\u001b[0mcasted_key\u001b[0m\u001b[0;34m)\u001b[0m\u001b[0;34m\u001b[0m\u001b[0;34m\u001b[0m\u001b[0m\n\u001b[1;32m   3081\u001b[0m             \u001b[0;32mexcept\u001b[0m \u001b[0mKeyError\u001b[0m \u001b[0;32mas\u001b[0m \u001b[0merr\u001b[0m\u001b[0;34m:\u001b[0m\u001b[0;34m\u001b[0m\u001b[0;34m\u001b[0m\u001b[0m\n\u001b[0;32m-> 3082\u001b[0;31m                 \u001b[0;32mraise\u001b[0m \u001b[0mKeyError\u001b[0m\u001b[0;34m(\u001b[0m\u001b[0mkey\u001b[0m\u001b[0;34m)\u001b[0m \u001b[0;32mfrom\u001b[0m \u001b[0merr\u001b[0m\u001b[0;34m\u001b[0m\u001b[0;34m\u001b[0m\u001b[0m\n\u001b[0m\u001b[1;32m   3083\u001b[0m \u001b[0;34m\u001b[0m\u001b[0m\n\u001b[1;32m   3084\u001b[0m         \u001b[0;32mif\u001b[0m \u001b[0mtolerance\u001b[0m \u001b[0;32mis\u001b[0m \u001b[0;32mnot\u001b[0m \u001b[0;32mNone\u001b[0m\u001b[0;34m:\u001b[0m\u001b[0;34m\u001b[0m\u001b[0;34m\u001b[0m\u001b[0m\n",
      "\u001b[0;31mKeyError\u001b[0m: 2"
     ]
    }
   ],
   "source": [
    "# import pathlib\n",
    "\n",
    "# def create_folder(p):\n",
    "#     pathlib.Path(p).mkdir(parents=True, exist_ok=True)\n",
    "#     pathlib.Path(p+os.sep+'.gitkeep').touch()\n",
    "\n",
    "# # root folder to put the many folders\n",
    "# subpath = '../data'\n",
    "\n",
    "# #loop over all values and create a folder for each possible date\n",
    "# for i in range(data.shape[0]): \n",
    "#     this_path = subpath + os.sep + str(data.user_id[i]) + os.sep + str(data.date[i]) + os.sep\n",
    "#     create_folder(this_path)\n",
    "    \n",
    "#     with open(this_path + 'food_entries.json', 'w') as f:\n",
    "#         json.dump(data.food_entries[i], f)\n",
    "        \n",
    "#     with open(this_path + 'intakes_goals.json', 'w') as f:\n",
    "#         json.dump(data.intakes_goals[i], f)"
   ]
  },
  {
   "cell_type": "code",
   "execution_count": 221,
   "metadata": {
    "scrolled": true
   },
   "outputs": [
    {
     "data": {
      "text/html": [
       "<div>\n",
       "<style scoped>\n",
       "    .dataframe tbody tr th:only-of-type {\n",
       "        vertical-align: middle;\n",
       "    }\n",
       "\n",
       "    .dataframe tbody tr th {\n",
       "        vertical-align: top;\n",
       "    }\n",
       "\n",
       "    .dataframe thead th {\n",
       "        text-align: right;\n",
       "    }\n",
       "</style>\n",
       "<table border=\"1\" class=\"dataframe\">\n",
       "  <thead>\n",
       "    <tr style=\"text-align: right;\">\n",
       "      <th></th>\n",
       "      <th>user_id</th>\n",
       "      <th>date</th>\n",
       "      <th>food_entries</th>\n",
       "      <th>intakes_goals</th>\n",
       "    </tr>\n",
       "  </thead>\n",
       "  <tbody>\n",
       "    <tr>\n",
       "      <th>0</th>\n",
       "      <td>1</td>\n",
       "      <td>2014-09-14</td>\n",
       "      <td>[{\"meal\": \"MY food\", \"dishes\": [{\"nutritions\":...</td>\n",
       "      <td>{\"total\": [{\"name\": \"Calories\", \"value\": 2924}...</td>\n",
       "    </tr>\n",
       "    <tr>\n",
       "      <th>1</th>\n",
       "      <td>1</td>\n",
       "      <td>2014-09-15</td>\n",
       "      <td>[{\"meal\": \"MY food\", \"dishes\": [{\"nutritions\":...</td>\n",
       "      <td>{\"total\": [{\"name\": \"Calories\", \"value\": 2430}...</td>\n",
       "    </tr>\n",
       "    <tr>\n",
       "      <th>2</th>\n",
       "      <td>1</td>\n",
       "      <td>2014-09-16</td>\n",
       "      <td>[{\"meal\": \"MY food\", \"dishes\": [{\"nutritions\":...</td>\n",
       "      <td>{\"total\": [{\"name\": \"Calories\", \"value\": 1862}...</td>\n",
       "    </tr>\n",
       "    <tr>\n",
       "      <th>3</th>\n",
       "      <td>1</td>\n",
       "      <td>2014-09-17</td>\n",
       "      <td>[{\"meal\": \"MY food\", \"dishes\": [{\"nutritions\":...</td>\n",
       "      <td>{\"total\": [{\"name\": \"Calories\", \"value\": 2251}...</td>\n",
       "    </tr>\n",
       "    <tr>\n",
       "      <th>4</th>\n",
       "      <td>1</td>\n",
       "      <td>2014-09-18</td>\n",
       "      <td>[{\"meal\": \"MY food\", \"dishes\": [{\"nutritions\":...</td>\n",
       "      <td>{\"total\": [{\"name\": \"Calories\", \"value\": 2001}...</td>\n",
       "    </tr>\n",
       "  </tbody>\n",
       "</table>\n",
       "</div>"
      ],
      "text/plain": [
       "   user_id        date                                       food_entries  \\\n",
       "0        1  2014-09-14  [{\"meal\": \"MY food\", \"dishes\": [{\"nutritions\":...   \n",
       "1        1  2014-09-15  [{\"meal\": \"MY food\", \"dishes\": [{\"nutritions\":...   \n",
       "2        1  2014-09-16  [{\"meal\": \"MY food\", \"dishes\": [{\"nutritions\":...   \n",
       "3        1  2014-09-17  [{\"meal\": \"MY food\", \"dishes\": [{\"nutritions\":...   \n",
       "4        1  2014-09-18  [{\"meal\": \"MY food\", \"dishes\": [{\"nutritions\":...   \n",
       "\n",
       "                                       intakes_goals  \n",
       "0  {\"total\": [{\"name\": \"Calories\", \"value\": 2924}...  \n",
       "1  {\"total\": [{\"name\": \"Calories\", \"value\": 2430}...  \n",
       "2  {\"total\": [{\"name\": \"Calories\", \"value\": 1862}...  \n",
       "3  {\"total\": [{\"name\": \"Calories\", \"value\": 2251}...  \n",
       "4  {\"total\": [{\"name\": \"Calories\", \"value\": 2001}...  "
      ]
     },
     "execution_count": 221,
     "metadata": {},
     "output_type": "execute_result"
    }
   ],
   "source": [
    "data.head()"
   ]
  },
  {
   "cell_type": "code",
   "execution_count": 222,
   "metadata": {},
   "outputs": [],
   "source": [
    "data.date = pd.to_datetime(data.date)"
   ]
  },
  {
   "cell_type": "code",
   "execution_count": 223,
   "metadata": {},
   "outputs": [
    {
     "data": {
      "text/plain": [
       "Timedelta('207 days 00:00:00')"
      ]
     },
     "execution_count": 223,
     "metadata": {},
     "output_type": "execute_result"
    }
   ],
   "source": [
    "data.date.max() - data.date.min()"
   ]
  },
  {
   "cell_type": "code",
   "execution_count": 194,
   "metadata": {},
   "outputs": [],
   "source": [
    "num_days_logged = data.groupby('user_id').agg({'date': lambda x: (x.max() - x.min()).days + 1})"
   ]
  },
  {
   "cell_type": "code",
   "execution_count": 195,
   "metadata": {},
   "outputs": [
    {
     "data": {
      "text/html": [
       "<div>\n",
       "<style scoped>\n",
       "    .dataframe tbody tr th:only-of-type {\n",
       "        vertical-align: middle;\n",
       "    }\n",
       "\n",
       "    .dataframe tbody tr th {\n",
       "        vertical-align: top;\n",
       "    }\n",
       "\n",
       "    .dataframe thead th {\n",
       "        text-align: right;\n",
       "    }\n",
       "</style>\n",
       "<table border=\"1\" class=\"dataframe\">\n",
       "  <thead>\n",
       "    <tr style=\"text-align: right;\">\n",
       "      <th></th>\n",
       "      <th>date</th>\n",
       "    </tr>\n",
       "    <tr>\n",
       "      <th>user_id</th>\n",
       "      <th></th>\n",
       "    </tr>\n",
       "  </thead>\n",
       "  <tbody>\n",
       "    <tr>\n",
       "      <th>1</th>\n",
       "      <td>180</td>\n",
       "    </tr>\n",
       "    <tr>\n",
       "      <th>2</th>\n",
       "      <td>60</td>\n",
       "    </tr>\n",
       "    <tr>\n",
       "      <th>3</th>\n",
       "      <td>10</td>\n",
       "    </tr>\n",
       "    <tr>\n",
       "      <th>4</th>\n",
       "      <td>133</td>\n",
       "    </tr>\n",
       "    <tr>\n",
       "      <th>5</th>\n",
       "      <td>177</td>\n",
       "    </tr>\n",
       "    <tr>\n",
       "      <th>...</th>\n",
       "      <td>...</td>\n",
       "    </tr>\n",
       "    <tr>\n",
       "      <th>9893</th>\n",
       "      <td>28</td>\n",
       "    </tr>\n",
       "    <tr>\n",
       "      <th>9894</th>\n",
       "      <td>166</td>\n",
       "    </tr>\n",
       "    <tr>\n",
       "      <th>9895</th>\n",
       "      <td>179</td>\n",
       "    </tr>\n",
       "    <tr>\n",
       "      <th>9896</th>\n",
       "      <td>35</td>\n",
       "    </tr>\n",
       "    <tr>\n",
       "      <th>9897</th>\n",
       "      <td>166</td>\n",
       "    </tr>\n",
       "  </tbody>\n",
       "</table>\n",
       "<p>9891 rows × 1 columns</p>\n",
       "</div>"
      ],
      "text/plain": [
       "         date\n",
       "user_id      \n",
       "1         180\n",
       "2          60\n",
       "3          10\n",
       "4         133\n",
       "5         177\n",
       "...       ...\n",
       "9893       28\n",
       "9894      166\n",
       "9895      179\n",
       "9896       35\n",
       "9897      166\n",
       "\n",
       "[9891 rows x 1 columns]"
      ]
     },
     "execution_count": 195,
     "metadata": {},
     "output_type": "execute_result"
    }
   ],
   "source": [
    "num_days_logged"
   ]
  },
  {
   "cell_type": "code",
   "execution_count": 196,
   "metadata": {},
   "outputs": [
    {
     "data": {
      "text/plain": [
       "count    9891.000000\n",
       "mean      115.019310\n",
       "std        63.023556\n",
       "min         1.000000\n",
       "25%        61.000000\n",
       "50%       137.000000\n",
       "75%       175.000000\n",
       "max       193.000000\n",
       "Name: date, dtype: float64"
      ]
     },
     "execution_count": 196,
     "metadata": {},
     "output_type": "execute_result"
    }
   ],
   "source": [
    "num_days_logged['date'].describe()"
   ]
  },
  {
   "cell_type": "code",
   "execution_count": 197,
   "metadata": {},
   "outputs": [],
   "source": [
    "data.intakes_goals = data.intakes_goals.astype(str)"
   ]
  },
  {
   "cell_type": "code",
   "execution_count": 224,
   "metadata": {},
   "outputs": [],
   "source": [
    "# Focus on calories, carbs, protein, and fat intake\n",
    "# ignore other nutrients for now, differs between users\n",
    "def extract(ser, target):\n",
    "    for i in range(len(ser)):\n",
    "        if ser[i]['name'] == target:\n",
    "            return ser[i]['value']\n",
    "        \n",
    "    return None\n",
    "\n",
    "data['calorie_goal'] = data.intakes_goals.apply(lambda x: extract(json.loads(x)['goal'], 'Calories'))\n",
    "data['carb_goal'] = data.intakes_goals.apply(lambda x: extract(json.loads(x)['goal'], 'Carbs'))\n",
    "data['protein_goal'] = data.intakes_goals.apply(lambda x: extract(json.loads(x)['goal'], 'Protein'))\n",
    "data['fat_goal'] = data.intakes_goals.apply(lambda x: extract(json.loads(x)['goal'], 'Fat'))\n",
    "\n",
    "data['calorie_total'] = data.intakes_goals.apply(lambda x: extract(json.loads(x)['total'], 'Calories'))\n",
    "data['carb_total'] = data.intakes_goals.apply(lambda x: extract(json.loads(x)['total'], 'Carbs'))\n",
    "data['protein_total'] = data.intakes_goals.apply(lambda x: extract(json.loads(x)['total'], 'Protein'))\n",
    "data['fat_total'] = data.intakes_goals.apply(lambda x: extract(json.loads(x)['total'], 'Fat'))"
   ]
  },
  {
   "cell_type": "code",
   "execution_count": 225,
   "metadata": {},
   "outputs": [
    {
     "data": {
      "text/html": [
       "<div>\n",
       "<style scoped>\n",
       "    .dataframe tbody tr th:only-of-type {\n",
       "        vertical-align: middle;\n",
       "    }\n",
       "\n",
       "    .dataframe tbody tr th {\n",
       "        vertical-align: top;\n",
       "    }\n",
       "\n",
       "    .dataframe thead th {\n",
       "        text-align: right;\n",
       "    }\n",
       "</style>\n",
       "<table border=\"1\" class=\"dataframe\">\n",
       "  <thead>\n",
       "    <tr style=\"text-align: right;\">\n",
       "      <th></th>\n",
       "      <th>user_id</th>\n",
       "      <th>date</th>\n",
       "      <th>food_entries</th>\n",
       "      <th>intakes_goals</th>\n",
       "      <th>calorie_goal</th>\n",
       "      <th>carb_goal</th>\n",
       "      <th>protein_goal</th>\n",
       "      <th>fat_goal</th>\n",
       "      <th>calorie_total</th>\n",
       "      <th>carb_total</th>\n",
       "      <th>protein_total</th>\n",
       "      <th>fat_total</th>\n",
       "    </tr>\n",
       "  </thead>\n",
       "  <tbody>\n",
       "    <tr>\n",
       "      <th>0</th>\n",
       "      <td>1</td>\n",
       "      <td>2014-09-14</td>\n",
       "      <td>[{\"meal\": \"MY food\", \"dishes\": [{\"nutritions\":...</td>\n",
       "      <td>{\"total\": [{\"name\": \"Calories\", \"value\": 2924}...</td>\n",
       "      <td>3173.0</td>\n",
       "      <td>396.0</td>\n",
       "      <td>160.0</td>\n",
       "      <td>105.0</td>\n",
       "      <td>2924.0</td>\n",
       "      <td>340.0</td>\n",
       "      <td>186.0</td>\n",
       "      <td>114.0</td>\n",
       "    </tr>\n",
       "    <tr>\n",
       "      <th>1</th>\n",
       "      <td>1</td>\n",
       "      <td>2014-09-15</td>\n",
       "      <td>[{\"meal\": \"MY food\", \"dishes\": [{\"nutritions\":...</td>\n",
       "      <td>{\"total\": [{\"name\": \"Calories\", \"value\": 2430}...</td>\n",
       "      <td>1572.0</td>\n",
       "      <td>196.0</td>\n",
       "      <td>79.0</td>\n",
       "      <td>52.0</td>\n",
       "      <td>2430.0</td>\n",
       "      <td>96.0</td>\n",
       "      <td>50.0</td>\n",
       "      <td>37.0</td>\n",
       "    </tr>\n",
       "    <tr>\n",
       "      <th>2</th>\n",
       "      <td>1</td>\n",
       "      <td>2014-09-16</td>\n",
       "      <td>[{\"meal\": \"MY food\", \"dishes\": [{\"nutritions\":...</td>\n",
       "      <td>{\"total\": [{\"name\": \"Calories\", \"value\": 1862}...</td>\n",
       "      <td>1832.0</td>\n",
       "      <td>229.0</td>\n",
       "      <td>92.0</td>\n",
       "      <td>61.0</td>\n",
       "      <td>1862.0</td>\n",
       "      <td>158.0</td>\n",
       "      <td>114.0</td>\n",
       "      <td>54.0</td>\n",
       "    </tr>\n",
       "    <tr>\n",
       "      <th>3</th>\n",
       "      <td>1</td>\n",
       "      <td>2014-09-17</td>\n",
       "      <td>[{\"meal\": \"MY food\", \"dishes\": [{\"nutritions\":...</td>\n",
       "      <td>{\"total\": [{\"name\": \"Calories\", \"value\": 2251}...</td>\n",
       "      <td>1685.0</td>\n",
       "      <td>210.0</td>\n",
       "      <td>85.0</td>\n",
       "      <td>56.0</td>\n",
       "      <td>2251.0</td>\n",
       "      <td>187.0</td>\n",
       "      <td>98.0</td>\n",
       "      <td>60.0</td>\n",
       "    </tr>\n",
       "    <tr>\n",
       "      <th>4</th>\n",
       "      <td>1</td>\n",
       "      <td>2014-09-18</td>\n",
       "      <td>[{\"meal\": \"MY food\", \"dishes\": [{\"nutritions\":...</td>\n",
       "      <td>{\"total\": [{\"name\": \"Calories\", \"value\": 2001}...</td>\n",
       "      <td>1597.0</td>\n",
       "      <td>199.0</td>\n",
       "      <td>80.0</td>\n",
       "      <td>53.0</td>\n",
       "      <td>2001.0</td>\n",
       "      <td>113.0</td>\n",
       "      <td>202.0</td>\n",
       "      <td>81.0</td>\n",
       "    </tr>\n",
       "  </tbody>\n",
       "</table>\n",
       "</div>"
      ],
      "text/plain": [
       "   user_id       date                                       food_entries  \\\n",
       "0        1 2014-09-14  [{\"meal\": \"MY food\", \"dishes\": [{\"nutritions\":...   \n",
       "1        1 2014-09-15  [{\"meal\": \"MY food\", \"dishes\": [{\"nutritions\":...   \n",
       "2        1 2014-09-16  [{\"meal\": \"MY food\", \"dishes\": [{\"nutritions\":...   \n",
       "3        1 2014-09-17  [{\"meal\": \"MY food\", \"dishes\": [{\"nutritions\":...   \n",
       "4        1 2014-09-18  [{\"meal\": \"MY food\", \"dishes\": [{\"nutritions\":...   \n",
       "\n",
       "                                       intakes_goals  calorie_goal  carb_goal  \\\n",
       "0  {\"total\": [{\"name\": \"Calories\", \"value\": 2924}...        3173.0      396.0   \n",
       "1  {\"total\": [{\"name\": \"Calories\", \"value\": 2430}...        1572.0      196.0   \n",
       "2  {\"total\": [{\"name\": \"Calories\", \"value\": 1862}...        1832.0      229.0   \n",
       "3  {\"total\": [{\"name\": \"Calories\", \"value\": 2251}...        1685.0      210.0   \n",
       "4  {\"total\": [{\"name\": \"Calories\", \"value\": 2001}...        1597.0      199.0   \n",
       "\n",
       "   protein_goal  fat_goal  calorie_total  carb_total  protein_total  fat_total  \n",
       "0         160.0     105.0         2924.0       340.0          186.0      114.0  \n",
       "1          79.0      52.0         2430.0        96.0           50.0       37.0  \n",
       "2          92.0      61.0         1862.0       158.0          114.0       54.0  \n",
       "3          85.0      56.0         2251.0       187.0           98.0       60.0  \n",
       "4          80.0      53.0         2001.0       113.0          202.0       81.0  "
      ]
     },
     "execution_count": 225,
     "metadata": {},
     "output_type": "execute_result"
    }
   ],
   "source": [
    "data.head()"
   ]
  },
  {
   "cell_type": "code",
   "execution_count": 226,
   "metadata": {},
   "outputs": [],
   "source": [
    "t = data.groupby('user_id')[['calorie_goal', 'carb_goal', 'protein_goal', 'fat_goal']].nunique()"
   ]
  },
  {
   "cell_type": "code",
   "execution_count": 227,
   "metadata": {},
   "outputs": [
    {
     "data": {
      "text/html": [
       "<div>\n",
       "<style scoped>\n",
       "    .dataframe tbody tr th:only-of-type {\n",
       "        vertical-align: middle;\n",
       "    }\n",
       "\n",
       "    .dataframe tbody tr th {\n",
       "        vertical-align: top;\n",
       "    }\n",
       "\n",
       "    .dataframe thead th {\n",
       "        text-align: right;\n",
       "    }\n",
       "</style>\n",
       "<table border=\"1\" class=\"dataframe\">\n",
       "  <thead>\n",
       "    <tr style=\"text-align: right;\">\n",
       "      <th></th>\n",
       "      <th>calorie_goal</th>\n",
       "      <th>carb_goal</th>\n",
       "      <th>protein_goal</th>\n",
       "      <th>fat_goal</th>\n",
       "    </tr>\n",
       "    <tr>\n",
       "      <th>user_id</th>\n",
       "      <th></th>\n",
       "      <th></th>\n",
       "      <th></th>\n",
       "      <th></th>\n",
       "    </tr>\n",
       "  </thead>\n",
       "  <tbody>\n",
       "    <tr>\n",
       "      <th>1</th>\n",
       "      <td>168</td>\n",
       "      <td>120</td>\n",
       "      <td>76</td>\n",
       "      <td>61</td>\n",
       "    </tr>\n",
       "    <tr>\n",
       "      <th>2</th>\n",
       "      <td>16</td>\n",
       "      <td>17</td>\n",
       "      <td>16</td>\n",
       "      <td>15</td>\n",
       "    </tr>\n",
       "    <tr>\n",
       "      <th>3</th>\n",
       "      <td>4</td>\n",
       "      <td>4</td>\n",
       "      <td>3</td>\n",
       "      <td>3</td>\n",
       "    </tr>\n",
       "    <tr>\n",
       "      <th>4</th>\n",
       "      <td>25</td>\n",
       "      <td>24</td>\n",
       "      <td>18</td>\n",
       "      <td>17</td>\n",
       "    </tr>\n",
       "    <tr>\n",
       "      <th>5</th>\n",
       "      <td>34</td>\n",
       "      <td>0</td>\n",
       "      <td>31</td>\n",
       "      <td>27</td>\n",
       "    </tr>\n",
       "    <tr>\n",
       "      <th>...</th>\n",
       "      <td>...</td>\n",
       "      <td>...</td>\n",
       "      <td>...</td>\n",
       "      <td>...</td>\n",
       "    </tr>\n",
       "    <tr>\n",
       "      <th>9893</th>\n",
       "      <td>22</td>\n",
       "      <td>21</td>\n",
       "      <td>20</td>\n",
       "      <td>0</td>\n",
       "    </tr>\n",
       "    <tr>\n",
       "      <th>9894</th>\n",
       "      <td>1</td>\n",
       "      <td>1</td>\n",
       "      <td>1</td>\n",
       "      <td>1</td>\n",
       "    </tr>\n",
       "    <tr>\n",
       "      <th>9895</th>\n",
       "      <td>152</td>\n",
       "      <td>108</td>\n",
       "      <td>99</td>\n",
       "      <td>46</td>\n",
       "    </tr>\n",
       "    <tr>\n",
       "      <th>9896</th>\n",
       "      <td>3</td>\n",
       "      <td>4</td>\n",
       "      <td>4</td>\n",
       "      <td>3</td>\n",
       "    </tr>\n",
       "    <tr>\n",
       "      <th>9897</th>\n",
       "      <td>49</td>\n",
       "      <td>34</td>\n",
       "      <td>28</td>\n",
       "      <td>20</td>\n",
       "    </tr>\n",
       "  </tbody>\n",
       "</table>\n",
       "<p>9896 rows × 4 columns</p>\n",
       "</div>"
      ],
      "text/plain": [
       "         calorie_goal  carb_goal  protein_goal  fat_goal\n",
       "user_id                                                 \n",
       "1                 168        120            76        61\n",
       "2                  16         17            16        15\n",
       "3                   4          4             3         3\n",
       "4                  25         24            18        17\n",
       "5                  34          0            31        27\n",
       "...               ...        ...           ...       ...\n",
       "9893               22         21            20         0\n",
       "9894                1          1             1         1\n",
       "9895              152        108            99        46\n",
       "9896                3          4             4         3\n",
       "9897               49         34            28        20\n",
       "\n",
       "[9896 rows x 4 columns]"
      ]
     },
     "execution_count": 227,
     "metadata": {},
     "output_type": "execute_result"
    }
   ],
   "source": [
    "t"
   ]
  },
  {
   "cell_type": "code",
   "execution_count": 228,
   "metadata": {},
   "outputs": [
    {
     "data": {
      "text/plain": [
       "user_id\n",
       "1       168\n",
       "2        16\n",
       "3         4\n",
       "4        25\n",
       "5        34\n",
       "       ... \n",
       "9893     22\n",
       "9894      1\n",
       "9895    152\n",
       "9896      3\n",
       "9897     49\n",
       "Name: calorie_goal, Length: 9896, dtype: int64"
      ]
     },
     "execution_count": 228,
     "metadata": {},
     "output_type": "execute_result"
    }
   ],
   "source": [
    "data.groupby('user_id').calorie_goal.nunique()"
   ]
  },
  {
   "cell_type": "code",
   "execution_count": 229,
   "metadata": {},
   "outputs": [
    {
     "data": {
      "text/html": [
       "<div>\n",
       "<style scoped>\n",
       "    .dataframe tbody tr th:only-of-type {\n",
       "        vertical-align: middle;\n",
       "    }\n",
       "\n",
       "    .dataframe tbody tr th {\n",
       "        vertical-align: top;\n",
       "    }\n",
       "\n",
       "    .dataframe thead th {\n",
       "        text-align: right;\n",
       "    }\n",
       "</style>\n",
       "<table border=\"1\" class=\"dataframe\">\n",
       "  <thead>\n",
       "    <tr style=\"text-align: right;\">\n",
       "      <th></th>\n",
       "      <th>calorie_goal</th>\n",
       "      <th>carb_goal</th>\n",
       "      <th>protein_goal</th>\n",
       "      <th>fat_goal</th>\n",
       "    </tr>\n",
       "  </thead>\n",
       "  <tbody>\n",
       "    <tr>\n",
       "      <th>count</th>\n",
       "      <td>9896.000000</td>\n",
       "      <td>9896.000000</td>\n",
       "      <td>9896.000000</td>\n",
       "      <td>9896.000000</td>\n",
       "    </tr>\n",
       "    <tr>\n",
       "      <th>mean</th>\n",
       "      <td>31.109539</td>\n",
       "      <td>22.252627</td>\n",
       "      <td>18.994442</td>\n",
       "      <td>14.561843</td>\n",
       "    </tr>\n",
       "    <tr>\n",
       "      <th>std</th>\n",
       "      <td>37.420116</td>\n",
       "      <td>24.198005</td>\n",
       "      <td>19.410089</td>\n",
       "      <td>13.876763</td>\n",
       "    </tr>\n",
       "    <tr>\n",
       "      <th>min</th>\n",
       "      <td>1.000000</td>\n",
       "      <td>0.000000</td>\n",
       "      <td>0.000000</td>\n",
       "      <td>0.000000</td>\n",
       "    </tr>\n",
       "    <tr>\n",
       "      <th>25%</th>\n",
       "      <td>4.000000</td>\n",
       "      <td>4.000000</td>\n",
       "      <td>4.000000</td>\n",
       "      <td>3.000000</td>\n",
       "    </tr>\n",
       "    <tr>\n",
       "      <th>50%</th>\n",
       "      <td>16.000000</td>\n",
       "      <td>13.000000</td>\n",
       "      <td>12.000000</td>\n",
       "      <td>11.000000</td>\n",
       "    </tr>\n",
       "    <tr>\n",
       "      <th>75%</th>\n",
       "      <td>44.000000</td>\n",
       "      <td>33.000000</td>\n",
       "      <td>28.000000</td>\n",
       "      <td>22.000000</td>\n",
       "    </tr>\n",
       "    <tr>\n",
       "      <th>max</th>\n",
       "      <td>174.000000</td>\n",
       "      <td>139.000000</td>\n",
       "      <td>130.000000</td>\n",
       "      <td>123.000000</td>\n",
       "    </tr>\n",
       "  </tbody>\n",
       "</table>\n",
       "</div>"
      ],
      "text/plain": [
       "       calorie_goal    carb_goal  protein_goal     fat_goal\n",
       "count   9896.000000  9896.000000   9896.000000  9896.000000\n",
       "mean      31.109539    22.252627     18.994442    14.561843\n",
       "std       37.420116    24.198005     19.410089    13.876763\n",
       "min        1.000000     0.000000      0.000000     0.000000\n",
       "25%        4.000000     4.000000      4.000000     3.000000\n",
       "50%       16.000000    13.000000     12.000000    11.000000\n",
       "75%       44.000000    33.000000     28.000000    22.000000\n",
       "max      174.000000   139.000000    130.000000   123.000000"
      ]
     },
     "execution_count": 229,
     "metadata": {},
     "output_type": "execute_result"
    }
   ],
   "source": [
    "# Number of times calorie goal was changed\n",
    "t.describe()"
   ]
  },
  {
   "cell_type": "code",
   "execution_count": null,
   "metadata": {},
   "outputs": [],
   "source": []
  },
  {
   "cell_type": "markdown",
   "metadata": {},
   "source": [
    "# Preprocessing\n",
    "    - filter out users with at less than two weeks of data\n",
    "    - filter out users with less than 20 days of meals logged\n",
    "    - explore/remove users with outlying nutrition goals\n",
    "        - dropped users with more than 10 days of calorie goals > 5000"
   ]
  },
  {
   "cell_type": "code",
   "execution_count": 230,
   "metadata": {},
   "outputs": [],
   "source": [
    "user_data = pd.DataFrame()\n",
    "\n",
    "# Frequency of days with meals logged by user\n",
    "user_data['use_period'] = data.groupby('user_id').date.apply(lambda x: (x.max() - x.min()).days)\n",
    "user_data['num_days_logged'] = data.groupby('user_id').date.count()\n",
    "user_data['freq_logged'] = user_data['num_days_logged']/user_data['use_period']\n",
    "user_data.reset_index(drop=False, inplace=True)\n",
    "nusers = data.user_id.nunique()"
   ]
  },
  {
   "cell_type": "code",
   "execution_count": 231,
   "metadata": {},
   "outputs": [],
   "source": [
    "data1 = data.copy()"
   ]
  },
  {
   "cell_type": "code",
   "execution_count": 232,
   "metadata": {
    "scrolled": true
   },
   "outputs": [
    {
     "name": "stdout",
     "output_type": "stream",
     "text": [
      "2512 users dropped\n",
      "7384 users remaining\n"
     ]
    }
   ],
   "source": [
    "# Drop users with usage period less than 2 weeks\n",
    "drop = user_data.loc[user_data.use_period < 14].index\n",
    "user_data.drop(index=drop, inplace=True)\n",
    "\n",
    "# Drop users with less than 14 days of meal-logging\n",
    "drop = user_data.loc[user_data['num_days_logged'] < 14].index\n",
    "user_data.drop(index=drop, inplace=True)\n",
    "\n",
    "data = data.loc[data.user_id.isin(user_data.user_id.unique())]\n",
    "\n",
    "nusers1 = data.user_id.nunique()\n",
    "print(f'{nusers-nusers1} users dropped')\n",
    "print(f'{nusers1} users remaining')"
   ]
  },
  {
   "cell_type": "code",
   "execution_count": 233,
   "metadata": {},
   "outputs": [
    {
     "data": {
      "text/html": [
       "<div>\n",
       "<style scoped>\n",
       "    .dataframe tbody tr th:only-of-type {\n",
       "        vertical-align: middle;\n",
       "    }\n",
       "\n",
       "    .dataframe tbody tr th {\n",
       "        vertical-align: top;\n",
       "    }\n",
       "\n",
       "    .dataframe thead th {\n",
       "        text-align: right;\n",
       "    }\n",
       "</style>\n",
       "<table border=\"1\" class=\"dataframe\">\n",
       "  <thead>\n",
       "    <tr style=\"text-align: right;\">\n",
       "      <th></th>\n",
       "      <th>user_id</th>\n",
       "      <th>calorie_goal</th>\n",
       "      <th>carb_goal</th>\n",
       "      <th>protein_goal</th>\n",
       "      <th>fat_goal</th>\n",
       "    </tr>\n",
       "    <tr>\n",
       "      <th>user_id</th>\n",
       "      <th></th>\n",
       "      <th></th>\n",
       "      <th></th>\n",
       "      <th></th>\n",
       "      <th></th>\n",
       "    </tr>\n",
       "  </thead>\n",
       "  <tbody>\n",
       "    <tr>\n",
       "      <th>5</th>\n",
       "      <td>0</td>\n",
       "      <td>0</td>\n",
       "      <td>179</td>\n",
       "      <td>0</td>\n",
       "      <td>0</td>\n",
       "    </tr>\n",
       "    <tr>\n",
       "      <th>25</th>\n",
       "      <td>0</td>\n",
       "      <td>0</td>\n",
       "      <td>30</td>\n",
       "      <td>0</td>\n",
       "      <td>0</td>\n",
       "    </tr>\n",
       "    <tr>\n",
       "      <th>31</th>\n",
       "      <td>0</td>\n",
       "      <td>0</td>\n",
       "      <td>180</td>\n",
       "      <td>0</td>\n",
       "      <td>0</td>\n",
       "    </tr>\n",
       "    <tr>\n",
       "      <th>168</th>\n",
       "      <td>0</td>\n",
       "      <td>0</td>\n",
       "      <td>0</td>\n",
       "      <td>130</td>\n",
       "      <td>0</td>\n",
       "    </tr>\n",
       "    <tr>\n",
       "      <th>173</th>\n",
       "      <td>0</td>\n",
       "      <td>0</td>\n",
       "      <td>127</td>\n",
       "      <td>0</td>\n",
       "      <td>0</td>\n",
       "    </tr>\n",
       "  </tbody>\n",
       "</table>\n",
       "</div>"
      ],
      "text/plain": [
       "         user_id  calorie_goal  carb_goal  protein_goal  fat_goal\n",
       "user_id                                                          \n",
       "5              0             0        179             0         0\n",
       "25             0             0         30             0         0\n",
       "31             0             0        180             0         0\n",
       "168            0             0          0           130         0\n",
       "173            0             0        127             0         0"
      ]
     },
     "execution_count": 233,
     "metadata": {},
     "output_type": "execute_result"
    }
   ],
   "source": [
    "# How many users without protein, carb, fat, and calorie goals?\n",
    "users_with_nan_goals = data.loc[(data[['calorie_goal', 'carb_goal', 'protein_goal', 'fat_goal']].isna().sum(axis=1) == True)].user_id.unique()\n",
    "num_nans_users = data.loc[data.user_id.isin(users_with_nan_goals), ['user_id', 'calorie_goal', 'carb_goal', 'protein_goal', 'fat_goal']].groupby('user_id').apply(lambda x: x.isna().sum())\n",
    "\n",
    "# Number of nans for macronutrient goals for users\n",
    "num_nans_users.head()"
   ]
  },
  {
   "cell_type": "code",
   "execution_count": 234,
   "metadata": {},
   "outputs": [
    {
     "data": {
      "text/html": [
       "<div>\n",
       "<style scoped>\n",
       "    .dataframe tbody tr th:only-of-type {\n",
       "        vertical-align: middle;\n",
       "    }\n",
       "\n",
       "    .dataframe tbody tr th {\n",
       "        vertical-align: top;\n",
       "    }\n",
       "\n",
       "    .dataframe thead th {\n",
       "        text-align: right;\n",
       "    }\n",
       "</style>\n",
       "<table border=\"1\" class=\"dataframe\">\n",
       "  <thead>\n",
       "    <tr style=\"text-align: right;\">\n",
       "      <th></th>\n",
       "      <th>user_id</th>\n",
       "      <th>calorie_goal</th>\n",
       "      <th>carb_goal</th>\n",
       "      <th>protein_goal</th>\n",
       "      <th>fat_goal</th>\n",
       "    </tr>\n",
       "    <tr>\n",
       "      <th>user_id</th>\n",
       "      <th></th>\n",
       "      <th></th>\n",
       "      <th></th>\n",
       "      <th></th>\n",
       "      <th></th>\n",
       "    </tr>\n",
       "  </thead>\n",
       "  <tbody>\n",
       "  </tbody>\n",
       "</table>\n",
       "</div>"
      ],
      "text/plain": [
       "Empty DataFrame\n",
       "Columns: [user_id, calorie_goal, carb_goal, protein_goal, fat_goal]\n",
       "Index: []"
      ]
     },
     "execution_count": 234,
     "metadata": {},
     "output_type": "execute_result"
    }
   ],
   "source": [
    "num_nans_users.loc[num_nans_users.calorie_goal > 0]"
   ]
  },
  {
   "cell_type": "markdown",
   "metadata": {},
   "source": [
    "All users have calorie goals. As long as there is a calorie goal, I think we can keep these users even if they don't have main macronutrient goals."
   ]
  },
  {
   "cell_type": "code",
   "execution_count": 235,
   "metadata": {},
   "outputs": [
    {
     "data": {
      "text/plain": [
       "<AxesSubplot:xlabel='calorie_goal', ylabel='Count'>"
      ]
     },
     "execution_count": 235,
     "metadata": {},
     "output_type": "execute_result"
    },
    {
     "data": {
      "image/png": "[encoded data removed]",
      "text/plain": [
       "<Figure size 1000x500 with 1 Axes>"
      ]
     },
     "metadata": {},
     "output_type": "display_data"
    }
   ],
   "source": [
    "plt.figure(figsize=(10, 5))\n",
    "sns.histplot(data.loc[data.calorie_goal > 5000, 'calorie_goal'])"
   ]
  },
  {
   "cell_type": "code",
   "execution_count": 236,
   "metadata": {},
   "outputs": [],
   "source": [
    "# How many days did users have outlying calorie goals\n",
    "t = data.loc[data.calorie_goal > 5000].groupby('user_id').calorie_goal.count()"
   ]
  },
  {
   "cell_type": "code",
   "execution_count": 237,
   "metadata": {},
   "outputs": [
    {
     "data": {
      "text/plain": [
       "count    136.000000\n",
       "mean       2.897059\n",
       "std        5.026271\n",
       "min        1.000000\n",
       "25%        1.000000\n",
       "50%        1.000000\n",
       "75%        3.000000\n",
       "max       39.000000\n",
       "Name: calorie_goal, dtype: float64"
      ]
     },
     "execution_count": 237,
     "metadata": {},
     "output_type": "execute_result"
    }
   ],
   "source": [
    "t.describe()"
   ]
  },
  {
   "cell_type": "code",
   "execution_count": 238,
   "metadata": {},
   "outputs": [
    {
     "data": {
      "text/plain": [
       "user_id\n",
       "717     13\n",
       "1543    33\n",
       "3494    24\n",
       "4143    14\n",
       "6957    39\n",
       "Name: calorie_goal, dtype: int64"
      ]
     },
     "execution_count": 238,
     "metadata": {},
     "output_type": "execute_result"
    }
   ],
   "source": [
    "t[t>10]"
   ]
  },
  {
   "cell_type": "code",
   "execution_count": 239,
   "metadata": {},
   "outputs": [
    {
     "data": {
      "text/plain": [
       "count    136.000000\n",
       "mean       2.897059\n",
       "std        5.026271\n",
       "min        1.000000\n",
       "25%        1.000000\n",
       "50%        1.000000\n",
       "75%        3.000000\n",
       "max       39.000000\n",
       "Name: calorie_goal, dtype: float64"
      ]
     },
     "execution_count": 239,
     "metadata": {},
     "output_type": "execute_result"
    }
   ],
   "source": [
    "t.describe()"
   ]
  },
  {
   "cell_type": "code",
   "execution_count": 240,
   "metadata": {},
   "outputs": [],
   "source": [
    "# Drop these 5 users with greater than 10 days with calorie goals > 5000\n",
    "drop = data.loc[data.user_id.isin(t[t>10].index.unique())].index\n",
    "data.drop(index=drop, inplace=True)"
   ]
  },
  {
   "cell_type": "code",
   "execution_count": 241,
   "metadata": {},
   "outputs": [
    {
     "data": {
      "text/html": [
       "<div>\n",
       "<style scoped>\n",
       "    .dataframe tbody tr th:only-of-type {\n",
       "        vertical-align: middle;\n",
       "    }\n",
       "\n",
       "    .dataframe tbody tr th {\n",
       "        vertical-align: top;\n",
       "    }\n",
       "\n",
       "    .dataframe thead th {\n",
       "        text-align: right;\n",
       "    }\n",
       "</style>\n",
       "<table border=\"1\" class=\"dataframe\">\n",
       "  <thead>\n",
       "    <tr style=\"text-align: right;\">\n",
       "      <th></th>\n",
       "      <th>user_id</th>\n",
       "      <th>date</th>\n",
       "      <th>food_entries</th>\n",
       "      <th>intakes_goals</th>\n",
       "      <th>calorie_goal</th>\n",
       "      <th>carb_goal</th>\n",
       "      <th>protein_goal</th>\n",
       "      <th>fat_goal</th>\n",
       "      <th>calorie_total</th>\n",
       "      <th>carb_total</th>\n",
       "      <th>protein_total</th>\n",
       "      <th>fat_total</th>\n",
       "    </tr>\n",
       "  </thead>\n",
       "  <tbody>\n",
       "    <tr>\n",
       "      <th>0</th>\n",
       "      <td>1</td>\n",
       "      <td>2014-09-14</td>\n",
       "      <td>[{\"meal\": \"MY food\", \"dishes\": [{\"nutritions\":...</td>\n",
       "      <td>{\"total\": [{\"name\": \"Calories\", \"value\": 2924}...</td>\n",
       "      <td>3173.0</td>\n",
       "      <td>396.0</td>\n",
       "      <td>160.0</td>\n",
       "      <td>105.0</td>\n",
       "      <td>2924.0</td>\n",
       "      <td>340.0</td>\n",
       "      <td>186.0</td>\n",
       "      <td>114.0</td>\n",
       "    </tr>\n",
       "    <tr>\n",
       "      <th>1</th>\n",
       "      <td>1</td>\n",
       "      <td>2014-09-15</td>\n",
       "      <td>[{\"meal\": \"MY food\", \"dishes\": [{\"nutritions\":...</td>\n",
       "      <td>{\"total\": [{\"name\": \"Calories\", \"value\": 2430}...</td>\n",
       "      <td>1572.0</td>\n",
       "      <td>196.0</td>\n",
       "      <td>79.0</td>\n",
       "      <td>52.0</td>\n",
       "      <td>2430.0</td>\n",
       "      <td>96.0</td>\n",
       "      <td>50.0</td>\n",
       "      <td>37.0</td>\n",
       "    </tr>\n",
       "    <tr>\n",
       "      <th>2</th>\n",
       "      <td>1</td>\n",
       "      <td>2014-09-16</td>\n",
       "      <td>[{\"meal\": \"MY food\", \"dishes\": [{\"nutritions\":...</td>\n",
       "      <td>{\"total\": [{\"name\": \"Calories\", \"value\": 1862}...</td>\n",
       "      <td>1832.0</td>\n",
       "      <td>229.0</td>\n",
       "      <td>92.0</td>\n",
       "      <td>61.0</td>\n",
       "      <td>1862.0</td>\n",
       "      <td>158.0</td>\n",
       "      <td>114.0</td>\n",
       "      <td>54.0</td>\n",
       "    </tr>\n",
       "    <tr>\n",
       "      <th>3</th>\n",
       "      <td>1</td>\n",
       "      <td>2014-09-17</td>\n",
       "      <td>[{\"meal\": \"MY food\", \"dishes\": [{\"nutritions\":...</td>\n",
       "      <td>{\"total\": [{\"name\": \"Calories\", \"value\": 2251}...</td>\n",
       "      <td>1685.0</td>\n",
       "      <td>210.0</td>\n",
       "      <td>85.0</td>\n",
       "      <td>56.0</td>\n",
       "      <td>2251.0</td>\n",
       "      <td>187.0</td>\n",
       "      <td>98.0</td>\n",
       "      <td>60.0</td>\n",
       "    </tr>\n",
       "    <tr>\n",
       "      <th>4</th>\n",
       "      <td>1</td>\n",
       "      <td>2014-09-18</td>\n",
       "      <td>[{\"meal\": \"MY food\", \"dishes\": [{\"nutritions\":...</td>\n",
       "      <td>{\"total\": [{\"name\": \"Calories\", \"value\": 2001}...</td>\n",
       "      <td>1597.0</td>\n",
       "      <td>199.0</td>\n",
       "      <td>80.0</td>\n",
       "      <td>53.0</td>\n",
       "      <td>2001.0</td>\n",
       "      <td>113.0</td>\n",
       "      <td>202.0</td>\n",
       "      <td>81.0</td>\n",
       "    </tr>\n",
       "  </tbody>\n",
       "</table>\n",
       "</div>"
      ],
      "text/plain": [
       "   user_id       date                                       food_entries  \\\n",
       "0        1 2014-09-14  [{\"meal\": \"MY food\", \"dishes\": [{\"nutritions\":...   \n",
       "1        1 2014-09-15  [{\"meal\": \"MY food\", \"dishes\": [{\"nutritions\":...   \n",
       "2        1 2014-09-16  [{\"meal\": \"MY food\", \"dishes\": [{\"nutritions\":...   \n",
       "3        1 2014-09-17  [{\"meal\": \"MY food\", \"dishes\": [{\"nutritions\":...   \n",
       "4        1 2014-09-18  [{\"meal\": \"MY food\", \"dishes\": [{\"nutritions\":...   \n",
       "\n",
       "                                       intakes_goals  calorie_goal  carb_goal  \\\n",
       "0  {\"total\": [{\"name\": \"Calories\", \"value\": 2924}...        3173.0      396.0   \n",
       "1  {\"total\": [{\"name\": \"Calories\", \"value\": 2430}...        1572.0      196.0   \n",
       "2  {\"total\": [{\"name\": \"Calories\", \"value\": 1862}...        1832.0      229.0   \n",
       "3  {\"total\": [{\"name\": \"Calories\", \"value\": 2251}...        1685.0      210.0   \n",
       "4  {\"total\": [{\"name\": \"Calories\", \"value\": 2001}...        1597.0      199.0   \n",
       "\n",
       "   protein_goal  fat_goal  calorie_total  carb_total  protein_total  fat_total  \n",
       "0         160.0     105.0         2924.0       340.0          186.0      114.0  \n",
       "1          79.0      52.0         2430.0        96.0           50.0       37.0  \n",
       "2          92.0      61.0         1862.0       158.0          114.0       54.0  \n",
       "3          85.0      56.0         2251.0       187.0           98.0       60.0  \n",
       "4          80.0      53.0         2001.0       113.0          202.0       81.0  "
      ]
     },
     "execution_count": 241,
     "metadata": {},
     "output_type": "execute_result"
    }
   ],
   "source": [
    "data.head()"
   ]
  },
  {
   "cell_type": "code",
   "execution_count": 242,
   "metadata": {},
   "outputs": [
    {
     "name": "stdout",
     "output_type": "stream",
     "text": [
      "7379 users remaining\n"
     ]
    }
   ],
   "source": [
    "print(f'{data.user_id.nunique()} users remaining')"
   ]
  },
  {
   "cell_type": "code",
   "execution_count": 247,
   "metadata": {},
   "outputs": [],
   "source": [
    "# Pickle a file and then compress it into a file with extension \n",
    "def compressed_pickle(title, data):\n",
    "    with bz2.BZ2File(title + '.pbz2', 'w') as f: \n",
    "        cPickle.dump(data, f)\n",
    "\n",
    "compressed_pickle('cleaned', data) "
   ]
  },
  {
   "cell_type": "code",
   "execution_count": 3,
   "metadata": {},
   "outputs": [],
   "source": [
    "# Load any compressed pickle file\n",
    "def decompress_pickle(file):\n",
    "    data = bz2.BZ2File(file, 'rb')\n",
    "    data = cPickle.load(data)\n",
    "    return data\n",
    "\n",
    "data = decompress_pickle('cleaned.pbz2') "
   ]
  },
  {
   "cell_type": "code",
   "execution_count": 4,
   "metadata": {
    "scrolled": false
   },
   "outputs": [
    {
     "data": {
      "text/html": [
       "<div>\n",
       "<style scoped>\n",
       "    .dataframe tbody tr th:only-of-type {\n",
       "        vertical-align: middle;\n",
       "    }\n",
       "\n",
       "    .dataframe tbody tr th {\n",
       "        vertical-align: top;\n",
       "    }\n",
       "\n",
       "    .dataframe thead th {\n",
       "        text-align: right;\n",
       "    }\n",
       "</style>\n",
       "<table border=\"1\" class=\"dataframe\">\n",
       "  <thead>\n",
       "    <tr style=\"text-align: right;\">\n",
       "      <th></th>\n",
       "      <th>user_id</th>\n",
       "      <th>date</th>\n",
       "      <th>food_entries</th>\n",
       "      <th>intakes_goals</th>\n",
       "      <th>calorie_goal</th>\n",
       "      <th>carb_goal</th>\n",
       "      <th>protein_goal</th>\n",
       "      <th>fat_goal</th>\n",
       "      <th>calorie_total</th>\n",
       "      <th>carb_total</th>\n",
       "      <th>protein_total</th>\n",
       "      <th>fat_total</th>\n",
       "    </tr>\n",
       "  </thead>\n",
       "  <tbody>\n",
       "    <tr>\n",
       "      <th>0</th>\n",
       "      <td>1</td>\n",
       "      <td>2014-09-14</td>\n",
       "      <td>[{\"meal\": \"MY food\", \"dishes\": [{\"nutritions\":...</td>\n",
       "      <td>{\"total\": [{\"name\": \"Calories\", \"value\": 2924}...</td>\n",
       "      <td>3173.0</td>\n",
       "      <td>396.0</td>\n",
       "      <td>160.0</td>\n",
       "      <td>105.0</td>\n",
       "      <td>2924.0</td>\n",
       "      <td>340.0</td>\n",
       "      <td>186.0</td>\n",
       "      <td>114.0</td>\n",
       "    </tr>\n",
       "    <tr>\n",
       "      <th>1</th>\n",
       "      <td>1</td>\n",
       "      <td>2014-09-15</td>\n",
       "      <td>[{\"meal\": \"MY food\", \"dishes\": [{\"nutritions\":...</td>\n",
       "      <td>{\"total\": [{\"name\": \"Calories\", \"value\": 2430}...</td>\n",
       "      <td>1572.0</td>\n",
       "      <td>196.0</td>\n",
       "      <td>79.0</td>\n",
       "      <td>52.0</td>\n",
       "      <td>2430.0</td>\n",
       "      <td>96.0</td>\n",
       "      <td>50.0</td>\n",
       "      <td>37.0</td>\n",
       "    </tr>\n",
       "    <tr>\n",
       "      <th>2</th>\n",
       "      <td>1</td>\n",
       "      <td>2014-09-16</td>\n",
       "      <td>[{\"meal\": \"MY food\", \"dishes\": [{\"nutritions\":...</td>\n",
       "      <td>{\"total\": [{\"name\": \"Calories\", \"value\": 1862}...</td>\n",
       "      <td>1832.0</td>\n",
       "      <td>229.0</td>\n",
       "      <td>92.0</td>\n",
       "      <td>61.0</td>\n",
       "      <td>1862.0</td>\n",
       "      <td>158.0</td>\n",
       "      <td>114.0</td>\n",
       "      <td>54.0</td>\n",
       "    </tr>\n",
       "    <tr>\n",
       "      <th>3</th>\n",
       "      <td>1</td>\n",
       "      <td>2014-09-17</td>\n",
       "      <td>[{\"meal\": \"MY food\", \"dishes\": [{\"nutritions\":...</td>\n",
       "      <td>{\"total\": [{\"name\": \"Calories\", \"value\": 2251}...</td>\n",
       "      <td>1685.0</td>\n",
       "      <td>210.0</td>\n",
       "      <td>85.0</td>\n",
       "      <td>56.0</td>\n",
       "      <td>2251.0</td>\n",
       "      <td>187.0</td>\n",
       "      <td>98.0</td>\n",
       "      <td>60.0</td>\n",
       "    </tr>\n",
       "    <tr>\n",
       "      <th>4</th>\n",
       "      <td>1</td>\n",
       "      <td>2014-09-18</td>\n",
       "      <td>[{\"meal\": \"MY food\", \"dishes\": [{\"nutritions\":...</td>\n",
       "      <td>{\"total\": [{\"name\": \"Calories\", \"value\": 2001}...</td>\n",
       "      <td>1597.0</td>\n",
       "      <td>199.0</td>\n",
       "      <td>80.0</td>\n",
       "      <td>53.0</td>\n",
       "      <td>2001.0</td>\n",
       "      <td>113.0</td>\n",
       "      <td>202.0</td>\n",
       "      <td>81.0</td>\n",
       "    </tr>\n",
       "  </tbody>\n",
       "</table>\n",
       "</div>"
      ],
      "text/plain": [
       "   user_id       date                                       food_entries  \\\n",
       "0        1 2014-09-14  [{\"meal\": \"MY food\", \"dishes\": [{\"nutritions\":...   \n",
       "1        1 2014-09-15  [{\"meal\": \"MY food\", \"dishes\": [{\"nutritions\":...   \n",
       "2        1 2014-09-16  [{\"meal\": \"MY food\", \"dishes\": [{\"nutritions\":...   \n",
       "3        1 2014-09-17  [{\"meal\": \"MY food\", \"dishes\": [{\"nutritions\":...   \n",
       "4        1 2014-09-18  [{\"meal\": \"MY food\", \"dishes\": [{\"nutritions\":...   \n",
       "\n",
       "                                       intakes_goals  calorie_goal  carb_goal  \\\n",
       "0  {\"total\": [{\"name\": \"Calories\", \"value\": 2924}...        3173.0      396.0   \n",
       "1  {\"total\": [{\"name\": \"Calories\", \"value\": 2430}...        1572.0      196.0   \n",
       "2  {\"total\": [{\"name\": \"Calories\", \"value\": 1862}...        1832.0      229.0   \n",
       "3  {\"total\": [{\"name\": \"Calories\", \"value\": 2251}...        1685.0      210.0   \n",
       "4  {\"total\": [{\"name\": \"Calories\", \"value\": 2001}...        1597.0      199.0   \n",
       "\n",
       "   protein_goal  fat_goal  calorie_total  carb_total  protein_total  fat_total  \n",
       "0         160.0     105.0         2924.0       340.0          186.0      114.0  \n",
       "1          79.0      52.0         2430.0        96.0           50.0       37.0  \n",
       "2          92.0      61.0         1862.0       158.0          114.0       54.0  \n",
       "3          85.0      56.0         2251.0       187.0           98.0       60.0  \n",
       "4          80.0      53.0         2001.0       113.0          202.0       81.0  "
      ]
     },
     "execution_count": 4,
     "metadata": {},
     "output_type": "execute_result"
    }
   ],
   "source": [
    "data.head()"
   ]
  },
  {
   "cell_type": "code",
   "execution_count": 5,
   "metadata": {},
   "outputs": [],
   "source": [
    "import json"
   ]
  },
  {
   "cell_type": "code",
   "execution_count": 6,
   "metadata": {},
   "outputs": [
    {
     "name": "stdout",
     "output_type": "stream",
     "text": [
      "2924\n"
     ]
    }
   ],
   "source": [
    "# Do food entries sum to total intakes?\n",
    "target = 'Calories'\n",
    "sum_nutrient = 0\n",
    "for entry in json.loads(data['food_entries'].iloc[0]):\n",
    "    for nutrition in entry['dishes']:\n",
    "        for nutrient in nutrition['nutritions']:\n",
    "            if nutrient['name'] == target:\n",
    "                sum_nutrient = sum_nutrient + int(nutrient['value'])\n",
    "print(sum_nutrient)"
   ]
  },
  {
   "cell_type": "markdown",
   "metadata": {},
   "source": [
    "Yes"
   ]
  },
  {
   "cell_type": "code",
   "execution_count": 7,
   "metadata": {},
   "outputs": [],
   "source": [
    "data.drop(index=data[data.calorie_goal > 7000].index, inplace=True)"
   ]
  },
  {
   "cell_type": "code",
   "execution_count": 8,
   "metadata": {},
   "outputs": [],
   "source": [
    "data.drop(index=data[data.calorie_goal < 500].index, inplace=True)"
   ]
  },
  {
   "cell_type": "code",
   "execution_count": 9,
   "metadata": {},
   "outputs": [
    {
     "data": {
      "text/plain": [
       "count    571448.000000\n",
       "mean       1807.644832\n",
       "std         513.912879\n",
       "min         500.000000\n",
       "25%        1451.000000\n",
       "50%        1707.000000\n",
       "75%        2045.000000\n",
       "max        6990.000000\n",
       "Name: calorie_goal, dtype: float64"
      ]
     },
     "execution_count": 9,
     "metadata": {},
     "output_type": "execute_result"
    }
   ],
   "source": [
    "data.calorie_goal.describe()"
   ]
  },
  {
   "cell_type": "code",
   "execution_count": 10,
   "metadata": {},
   "outputs": [
    {
     "data": {
      "text/plain": [
       "Text(0.5, 1.0, 'Calorie Goals')"
      ]
     },
     "execution_count": 10,
     "metadata": {},
     "output_type": "execute_result"
    },
    {
     "data": {
      "image/png": "[encoded data removed]",
      "text/plain": [
       "<Figure size 1200x800 with 1 Axes>"
      ]
     },
     "metadata": {},
     "output_type": "display_data"
    }
   ],
   "source": [
    "plt.figure(figsize=(12,8))\n",
    "sns.histplot(data.calorie_goal, binwidth=100)\n",
    "plt.title('Calorie Goals')"
   ]
  },
  {
   "cell_type": "markdown",
   "metadata": {},
   "source": [
    "# What macronutrients are predictive of achieving goals"
   ]
  },
  {
   "cell_type": "code",
   "execution_count": 11,
   "metadata": {},
   "outputs": [],
   "source": [
    "# Add feature: number of meals logged, number of unique foods logged\n",
    "def count_foods(x):\n",
    "    count = 0\n",
    "    for meal in x:\n",
    "        count += len(meal['dishes'])\n",
    "    return count\n",
    "\n",
    "data['meal_count'] = data.food_entries.apply(lambda x: json.loads(x)[-1]['sequence'])\n",
    "\n",
    "data['item_count'] = data.food_entries.apply(lambda x: count_foods(json.loads(x)))"
   ]
  },
  {
   "cell_type": "code",
   "execution_count": 12,
   "metadata": {},
   "outputs": [],
   "source": [
    "goaldata = data.drop(columns=['food_entries', 'intakes_goals'])"
   ]
  },
  {
   "cell_type": "code",
   "execution_count": 13,
   "metadata": {},
   "outputs": [
    {
     "data": {
      "text/plain": [
       "7378"
      ]
     },
     "execution_count": 13,
     "metadata": {},
     "output_type": "execute_result"
    }
   ],
   "source": [
    "goaldata.user_id.nunique()"
   ]
  },
  {
   "cell_type": "code",
   "execution_count": 14,
   "metadata": {},
   "outputs": [],
   "source": [
    "#goaldata.loc[goaldata.isna().any(axis=1)].groupby('user_id').count()\n",
    "drop_users = goaldata.loc[goaldata.isna().any(axis=1)].user_id.unique()\n",
    "drop = goaldata[goaldata.user_id.isin(drop_users)].index\n",
    "goaldata.drop(index=drop, inplace=True)"
   ]
  },
  {
   "cell_type": "code",
   "execution_count": 15,
   "metadata": {},
   "outputs": [
    {
     "data": {
      "text/plain": [
       "538166"
      ]
     },
     "execution_count": 15,
     "metadata": {},
     "output_type": "execute_result"
    }
   ],
   "source": [
    "goaldata.shape[0]"
   ]
  },
  {
   "cell_type": "code",
   "execution_count": 16,
   "metadata": {},
   "outputs": [],
   "source": [
    "# Relative % of calories\n",
    "goaldata['sum_cals'] = goaldata['carb_total']*4 + goaldata['protein_total']*4 + goaldata['fat_total']*9\n",
    "\n",
    "# Filter so data includes best tracked macronutrients\n",
    "goaldata = goaldata.loc[(goaldata['calorie_total'] - goaldata['sum_cals']) < 200]"
   ]
  },
  {
   "cell_type": "code",
   "execution_count": 17,
   "metadata": {},
   "outputs": [],
   "source": [
    "goaldata['protein_pc'] = goaldata['protein_total']*4/goaldata['sum_cals'] * 100\n",
    "goaldata['fat_pc'] = goaldata['fat_total']*9/goaldata['sum_cals'] * 100\n",
    "goaldata['carb_pc'] = goaldata['carb_total']*4/goaldata['sum_cals'] * 100"
   ]
  },
  {
   "cell_type": "code",
   "execution_count": 18,
   "metadata": {},
   "outputs": [],
   "source": [
    "# success if calories within 100 of goal\n",
    "goaldata.loc[(abs(goaldata['calorie_goal'] - goaldata['calorie_total']) < 150), 'success'] = True\n",
    "goaldata['success'] = goaldata['success'].fillna(False)\n",
    "\n",
    "goaldata['dist_from_goal'] = goaldata['calorie_goal'] - goaldata['calorie_total']"
   ]
  },
  {
   "cell_type": "code",
   "execution_count": 19,
   "metadata": {},
   "outputs": [
    {
     "data": {
      "text/plain": [
       "Index(['user_id', 'date', 'calorie_goal', 'carb_goal', 'protein_goal',\n",
       "       'fat_goal', 'calorie_total', 'carb_total', 'protein_total', 'fat_total',\n",
       "       'meal_count', 'item_count', 'sum_cals', 'protein_pc', 'fat_pc',\n",
       "       'carb_pc', 'success', 'dist_from_goal'],\n",
       "      dtype='object')"
      ]
     },
     "execution_count": 19,
     "metadata": {},
     "output_type": "execute_result"
    }
   ],
   "source": [
    "goaldata.columns"
   ]
  },
  {
   "cell_type": "code",
   "execution_count": 20,
   "metadata": {},
   "outputs": [],
   "source": [
    "drop = goaldata.loc[goaldata.isna().any(axis=1)].index\n",
    "goaldata.drop(index=drop, inplace=True)"
   ]
  },
  {
   "cell_type": "code",
   "execution_count": 21,
   "metadata": {
    "scrolled": true
   },
   "outputs": [
    {
     "data": {
      "text/plain": [
       "False    357302\n",
       "True     117930\n",
       "Name: success, dtype: int64"
      ]
     },
     "execution_count": 21,
     "metadata": {},
     "output_type": "execute_result"
    }
   ],
   "source": [
    "X_orig = goaldata[['meal_count', 'item_count', 'carb_pc', 'protein_pc', 'fat_pc', 'calorie_goal']]\n",
    "y_orig = goaldata['success']\n",
    "y_orig.value_counts()"
   ]
  },
  {
   "cell_type": "code",
   "execution_count": 22,
   "metadata": {},
   "outputs": [
    {
     "data": {
      "image/png": "[encoded data removed]",
      "text/plain": [
       "<Figure size 1300x1300 with 2 Axes>"
      ]
     },
     "metadata": {},
     "output_type": "display_data"
    }
   ],
   "source": [
    "from sklearn.preprocessing import StandardScaler\n",
    "ss = StandardScaler()\n",
    "\n",
    "# 'carb_goal', 'protein_goal', 'fat_goal','sum_cals','carb_total', 'protein_total', 'fat_total',\n",
    "X_cov = ss.fit_transform(goaldata[['calorie_goal', 'calorie_total', \n",
    "       'meal_count', 'item_count',  'protein_pc', 'fat_pc',\n",
    "       'carb_pc', 'success', 'dist_from_goal']])  #max_feats[ABILITY_COLS]\n",
    "X_df = pd.DataFrame(X_cov)\n",
    "\n",
    "#'carb_goal', 'protein_goal', 'fat_goal','sum_cals','carb_total', 'protein_total', 'fat_total',\n",
    "X_df.columns=['calorie_goal', 'calorie_total', \n",
    "       'meal_count', 'item_count',  'protein_pc', 'fat_pc',\n",
    "       'carb_pc', 'success', 'dist_from_goal']\n",
    "cov_mat = X_df.cov()\n",
    "\n",
    "plt.figure(figsize=(13,13))\n",
    "sns.heatmap(cov_mat, annot=True, fmt='.3g')\n",
    "plt.show()"
   ]
  },
  {
   "cell_type": "markdown",
   "metadata": {},
   "source": [
    "### Handle Imbalanced classes\n"
   ]
  },
  {
   "cell_type": "code",
   "execution_count": 23,
   "metadata": {},
   "outputs": [],
   "source": [
    "from sklearn.utils import resample\n",
    "from sklearn.metrics import classification_report\n"
   ]
  },
  {
   "cell_type": "code",
   "execution_count": 24,
   "metadata": {},
   "outputs": [],
   "source": [
    "# Oversample minority class\n",
    "X_min = X_orig[y_orig == True]\n",
    "y_min = y_orig[y_orig == True]\n",
    "X_maj = X_orig[y_orig == False]\n",
    "y_maj = y_orig[y_orig == False]\n",
    "\n",
    "X_bal, y_bal = resample(X_min, \n",
    "                        y_min,\n",
    "                        replace=True,\n",
    "                        n_samples=X_orig[y_orig == False].shape[0],\n",
    "                        random_state=123)\n",
    "\n",
    "# Append the oversampled minority class to training data and related labels\n",
    "X = pd.concat([X_maj, X_bal])\n",
    "y = pd.concat([y_maj, y_bal])"
   ]
  },
  {
   "cell_type": "code",
   "execution_count": 25,
   "metadata": {},
   "outputs": [],
   "source": [
    "# Undersample Majority Class\n",
    "X_min = X_orig[y_orig == True]\n",
    "y_min = y_orig[y_orig == True]\n",
    "X_maj = X_orig[y_orig == False]\n",
    "y_maj = y_orig[y_orig == False]\n",
    "\n",
    "X_under, y_under = resample(X_maj, \n",
    "                        y_maj,\n",
    "                        replace=False,\n",
    "                        n_samples=X_orig[y_orig == True].shape[0],\n",
    "                        random_state=123)\n",
    "\n",
    "# Append the oversampled minority class to training data and related labels\n",
    "X = pd.concat([X_under, X_min])\n",
    "y = pd.concat([y_under, y_min])"
   ]
  },
  {
   "cell_type": "code",
   "execution_count": 26,
   "metadata": {},
   "outputs": [],
   "source": [
    "from sklearn.preprocessing import StandardScaler\n",
    "from sklearn.model_selection import train_test_split\n",
    "\n",
    "\n",
    "\n",
    "X_train, X_test, y_train, y_test = train_test_split(X, y, test_size=.3, random_state=42)\n",
    "ss = StandardScaler().fit(X_train)\n",
    "X_train = ss.transform(X_train)\n",
    "X_test = ss.transform(X_test)"
   ]
  },
  {
   "cell_type": "code",
   "execution_count": 27,
   "metadata": {},
   "outputs": [],
   "source": [
    "from sklearn.metrics import roc_auc_score\n",
    "from sklearn.metrics import roc_curve\n",
    "from sklearn.dummy import DummyClassifier\n",
    "\n",
    "def calc_scores(model, X_train, y_train, X_test, y_test, label='Logistic', plotroc=True):\n",
    "    print('Test Accuracy: ' + str(model.score(X_test, y_test)))\n",
    "    #Predict test data set.\n",
    "    y_pred = model.predict(X_test)\n",
    "    #Checking performance our model with classification report.\n",
    "    print(classification_report(y_test, y_pred))\n",
    "    #Checking performance our model with ROC Score.\n",
    "    print('ROC Score: ')\n",
    "    print(roc_auc_score(y_test, y_pred))\n",
    "\n",
    "#     print(f'Score on test set: {model.score(X_test, y_test)}')\n",
    "    \n",
    "#     # no skill model, stratified random class predictions\n",
    "#     dummy = DummyClassifier(strategy='stratified')\n",
    "#     dummy.fit(X_train, y_train)\n",
    "#     yhat = dummy.predict_proba(X_test)\n",
    "#     pos_probs = yhat[:, 1]\n",
    "#     # calculate roc auc\n",
    "#     roc_auc = roc_auc_score(y_test, pos_probs)\n",
    "#     print('No Skill ROC AUC %.3f' % roc_auc)\n",
    "#     # skilled model\n",
    "#     yhat = model.predict_proba(X_test)\n",
    "#     pos_probs = yhat[:, 1]\n",
    "#     # calculate roc auc\n",
    "#     roc_auc = roc_auc_score(y_test, pos_probs)\n",
    "#     print('Model ROC AUC %.3f' % roc_auc)\n",
    "    \n",
    "#     if plotroc == True:\n",
    "#         # Plot confusion matrix\n",
    "# #         plt.figure(figsize=(4,6))\n",
    "# #         plot_confusion_matrix(model, X_test, y_test)  \n",
    "# #         plt.show()  \n",
    "    \n",
    "    \n",
    "#         plt.figure(figsize=(4,4))\n",
    "#         # plot no skill roc curve\n",
    "#         plt.plot([0, 1], [0, 1], linestyle='--', label='No Skill')\n",
    "#         # calculate roc curve for model\n",
    "#         fpr, tpr, _ = roc_curve(y_test, pos_probs)\n",
    "#         # plot model roc curve\n",
    "#         plt.plot(fpr, tpr, marker='.')\n",
    "#         plt.title(label)\n",
    "#         # axis labels\n",
    "#         plt.xlabel('False Positive Rate')\n",
    "#         plt.ylabel('True Positive Rate')\n",
    "#         # show the legend\n",
    "#         plt.legend()\n",
    "#         # show the plot\n",
    "#         plt.show()"
   ]
  },
  {
   "cell_type": "markdown",
   "metadata": {},
   "source": [
    "### Random Forest Clf"
   ]
  },
  {
   "cell_type": "code",
   "execution_count": 28,
   "metadata": {
    "scrolled": true
   },
   "outputs": [
    {
     "name": "stdout",
     "output_type": "stream",
     "text": [
      "Best score on kfold validation: 0.6860212450443361\n",
      "Best Params: {'max_depth': 20}\n",
      "Test Accuracy: 0.688943183583544\n",
      "              precision    recall  f1-score   support\n",
      "\n",
      "       False       0.72      0.60      0.66     35189\n",
      "        True       0.66      0.77      0.71     35618\n",
      "\n",
      "    accuracy                           0.69     70807\n",
      "   macro avg       0.69      0.69      0.69     70807\n",
      "weighted avg       0.69      0.69      0.69     70807\n",
      "\n",
      "ROC Score: \n",
      "0.6884375988825611\n"
     ]
    }
   ],
   "source": [
    "from sklearn.model_selection import GridSearchCV\n",
    "from sklearn.ensemble import RandomForestClassifier\n",
    "\n",
    "parameters = {'max_depth': range(20, 29)}\n",
    "clf = GridSearchCV(RandomForestClassifier(), parameters, n_jobs=6)\n",
    "clf.fit(X=X_train, y=y_train)\n",
    "tree_model = clf.best_estimator_\n",
    "print(f'Best score on kfold validation: {clf.best_score_}')\n",
    "print(f'Best Params: {clf.best_params_}') \n",
    "tree_model.predict(X=X_test)\n",
    "calc_scores(tree_model, X_train, y_train, X_test, y_test, label='Random Forest')"
   ]
  },
  {
   "cell_type": "code",
   "execution_count": 23,
   "metadata": {},
   "outputs": [
    {
     "name": "stdout",
     "output_type": "stream",
     "text": [
      "Score on test set: 0.8526275598103947\n"
     ]
    }
   ],
   "source": [
    "print(f'Score on test set: {tree_model.score(X_test, y=y_test)}')"
   ]
  },
  {
   "cell_type": "code",
   "execution_count": 24,
   "metadata": {},
   "outputs": [
    {
     "name": "stdout",
     "output_type": "stream",
     "text": [
      "[0.07886729 0.14104897 0.18046427 0.18450668 0.18506296 0.23004982]\n"
     ]
    },
    {
     "data": {
      "image/png": "[encoded data removed]",
      "text/plain": [
       "<Figure size 640x480 with 1 Axes>"
      ]
     },
     "metadata": {},
     "output_type": "display_data"
    }
   ],
   "source": [
    "print(tree_model.feature_importances_) #use inbuilt class feature_importances of tree based classifiers\n",
    "#plot graph of feature importances for better visualization\n",
    "feat_importances = pd.Series(tree_model.feature_importances_, index=['Number of Meals', 'Num Unique Food Items', 'Percent Carbs', 'Percent Protein', 'Percent Fat', 'Calorie Goal'])\n",
    "feat_importances.nlargest(10).plot(kind='barh')\n",
    "plt.title('Random Forest Feature Importance')\n",
    "plt.xlabel('Relative Feature Importance')\n",
    "plt.ylabel('Features')\n",
    "plt.show()"
   ]
  },
  {
   "cell_type": "markdown",
   "metadata": {},
   "source": [
    "#### Macronutrient Total Values:\n",
    "Features: ['calorie_total', 'carb_total', 'protein_total', 'fat_total']\n",
    "- Random Forest:\n",
    "    - Best score on kfold validation: 0.7382739214726137\n",
    "    - Best Params: {'max_depth': 19}\n",
    "    - Score on test set: 0.7455706199271452\n",
    "    - No Skill ROC AUC 0.500\n",
    "    - Model ROC AUC 0.843\n",
    "    \n",
    "- Logistic Regression:\n",
    "    - Score on train set: 0.5993613541277185\n",
    "    - Score on test set: 0.5999065540353358\n",
    "    - No Skill ROC AUC 0.501\n",
    "    - Model ROC AUC 0.657\n",
    "    \n",
    "    \n",
    " ### Macronutrient percent of calorie contributions\n",
    " Features: ['calorie_total', 'carb_pc', 'protein_pc', 'fat_pc']\n",
    " - Random Forest\n",
    "    - score on kfold validation: 0.730\n",
    "    - Best Params: {'max_depth': 19}\n",
    "    - Score on test set: 0.738\n",
    "    - No Skill ROC AUC 0.500\n",
    "    - Model ROC AUC 0.823\n",
    "    \n",
    " - Logistic Regression\n",
    "    - Score on train set: 0.631\n",
    "    - Score on test set: 0.630\n",
    "    - No Skill ROC AUC 0.499\n",
    "    - Model ROC AUC 0.686\n",
    "    \n",
    "- Nearest Neighbors\n",
    "    - Train Accuracy: 0.782\n",
    "    - Score on test set: 0.708\n",
    "    - No Skill ROC AUC 0.500\n",
    "    - Model ROC AUC 0.775\n",
    "- Linear SVM\n",
    "    - Train Accuracy: 0.663\n",
    "    - Score on test set: 0.663\n",
    "    - No Skill ROC AUC 0.501\n",
    "    \n",
    "- Neural Net\n",
    "    - Train Accuracy: 0.6690107960328072\n",
    "    - Score on test set: 0.6687868431100474\n",
    "    - No Skill ROC AUC 0.501\n",
    "    - Model ROC AUC 0.718\n",
    "- AdaBoost\n",
    "    - Train Accuracy: 0.680417473209475\n",
    "    - Score on test set: 0.6812238664195714\n",
    "    - No Skill ROC AUC 0.500\n",
    "    - Model ROC AUC 0.716\n",
    "- Naive Bayes\n",
    "    - Train Accuracy: 0.6279818802258985\n",
    "    - Score on test set: 0.6296132462912434\n",
    "    - No Skill ROC AUC 0.500\n",
    "    - Model ROC AUC 0.688\n",
    "    \n",
    "### Just macronutrient contributions\n",
    "Features: ['meal_count', 'item_count', 'carb_pc', 'protein_pc', 'fat_pc', 'calorie_goal']"
   ]
  },
  {
   "cell_type": "markdown",
   "metadata": {},
   "source": [
    "### Logistic Regression Clf"
   ]
  },
  {
   "cell_type": "code",
   "execution_count": 48,
   "metadata": {
    "scrolled": true
   },
   "outputs": [
    {
     "name": "stdout",
     "output_type": "stream",
     "text": [
      "Score on train set: 0.6689788669154477\n",
      "Test Accuracy: 0.6693409448598914\n",
      "              precision    recall  f1-score   support\n",
      "\n",
      "       False       0.68      0.64      0.66    107219\n",
      "        True       0.66      0.70      0.68    107543\n",
      "\n",
      "    accuracy                           0.67    214762\n",
      "   macro avg       0.67      0.67      0.67    214762\n",
      "weighted avg       0.67      0.67      0.67    214762\n",
      "\n",
      "ROC Score: \n",
      "0.6692964631796314\n"
     ]
    }
   ],
   "source": [
    "from sklearn.linear_model import LogisticRegressionCV\n",
    "clf = LogisticRegressionCV(cv=5)\n",
    "clf.fit(X=X_train, y=y_train)\n",
    "\n",
    "clf.predict(X=X_train)\n",
    "print(f'Score on train set: {clf.score(X_train, y=y_train)}')\n",
    "\n",
    "calc_scores(clf, X_train, y_train, X_test, y_test)"
   ]
  },
  {
   "cell_type": "code",
   "execution_count": 49,
   "metadata": {},
   "outputs": [],
   "source": [
    "from sklearn.neighbors import KNeighborsClassifier\n",
    "from sklearn.svm import SVC\n",
    "from sklearn.neural_network import MLPClassifier\n",
    "from sklearn.gaussian_process import GaussianProcessClassifier\n",
    "from sklearn.gaussian_process.kernels import RBF\n",
    "from sklearn.ensemble import AdaBoostClassifier\n",
    "from sklearn.naive_bayes import GaussianNB\n",
    "\n"
   ]
  },
  {
   "cell_type": "code",
   "execution_count": 50,
   "metadata": {},
   "outputs": [
    {
     "name": "stdout",
     "output_type": "stream",
     "text": [
      "Neural Net\n",
      "Train Accuracy: 0.6764562670870667\n",
      "Test Accuracy: 0.6767584582002403\n",
      "              precision    recall  f1-score   support\n",
      "\n",
      "       False       0.74      0.55      0.63    107219\n",
      "        True       0.64      0.80      0.71    107543\n",
      "\n",
      "    accuracy                           0.68    214762\n",
      "   macro avg       0.69      0.68      0.67    214762\n",
      "weighted avg       0.69      0.68      0.67    214762\n",
      "\n",
      "ROC Score: \n",
      "0.6765682227324994\n",
      "\n",
      "AdaBoost\n",
      "Train Accuracy: 0.6769870886631678\n",
      "Test Accuracy: 0.6772613404606029\n",
      "              precision    recall  f1-score   support\n",
      "\n",
      "       False       0.70      0.61      0.65    107219\n",
      "        True       0.66      0.75      0.70    107543\n",
      "\n",
      "    accuracy                           0.68    214762\n",
      "   macro avg       0.68      0.68      0.68    214762\n",
      "weighted avg       0.68      0.68      0.68    214762\n",
      "\n",
      "ROC Score: \n",
      "0.6771572717697821\n",
      "\n",
      "Naive Bayes\n",
      "Train Accuracy: 0.6429187204406218\n",
      "Test Accuracy: 0.6431398478315531\n",
      "              precision    recall  f1-score   support\n",
      "\n",
      "       False       0.69      0.51      0.59    107219\n",
      "        True       0.61      0.78      0.69    107543\n",
      "\n",
      "    accuracy                           0.64    214762\n",
      "   macro avg       0.65      0.64      0.64    214762\n",
      "weighted avg       0.65      0.64      0.64    214762\n",
      "\n",
      "ROC Score: \n",
      "0.6429388863201354\n",
      "\n"
     ]
    }
   ],
   "source": [
    "names = [\"Neural Net\", \"AdaBoost\",\n",
    "         \"Naive Bayes\"]\n",
    "# \"RBF SVM\", \"Gaussian Process\", \n",
    "classifiers = [\n",
    "#      KNeighborsClassifier(7),\n",
    "#     SVC(kernel=\"linear\", C=0.025),\n",
    "#     SVC(gamma=2, C=1),\n",
    "#     GaussianProcessClassifier(1.0 * RBF(1.0)),\n",
    "    MLPClassifier(alpha=1, max_iter=1000),\n",
    "    AdaBoostClassifier(),\n",
    "    GaussianNB()]\n",
    "\n",
    "# iterate over classifiers\n",
    "for name, clf in zip(names, classifiers):\n",
    "    clf.fit(X_train, y_train)\n",
    "    print(name)\n",
    "    print('Train Accuracy: ' + str(clf.score(X_train, y_train)))\n",
    "    calc_scores(clf, X_train,y_train, X_test, y_test, label=name, plotroc=False)\n",
    "    print()"
   ]
  },
  {
   "cell_type": "code",
   "execution_count": 51,
   "metadata": {},
   "outputs": [
    {
     "name": "stdout",
     "output_type": "stream",
     "text": [
      "Best n_neighbors: 3\n"
     ]
    }
   ],
   "source": [
    "#Create new KNN object\n",
    "knn_2 = KNeighborsClassifier()\n",
    "hyperparameters = {'n_neighbors': list(range(3, 20))}\n",
    "#Use GridSearch\n",
    "clf = GridSearchCV(knn_2, hyperparameters, cv=10)\n",
    "#Fit the model\n",
    "best_model = clf.fit(X_train, y_train)\n",
    "\n",
    "print('Best n_neighbors:', best_model.best_estimator_.get_params()['n_neighbors'])"
   ]
  },
  {
   "cell_type": "code",
   "execution_count": 52,
   "metadata": {},
   "outputs": [
    {
     "name": "stdout",
     "output_type": "stream",
     "text": [
      "Train Accuracy: 0.8788110394923271\n",
      "Test Accuracy: 0.758458200240266\n",
      "              precision    recall  f1-score   support\n",
      "\n",
      "       False       0.82      0.66      0.73    107219\n",
      "        True       0.72      0.86      0.78    107543\n",
      "\n",
      "    accuracy                           0.76    214762\n",
      "   macro avg       0.77      0.76      0.76    214762\n",
      "weighted avg       0.77      0.76      0.76    214762\n",
      "\n",
      "ROC Score: \n",
      "0.7583057191070943\n"
     ]
    }
   ],
   "source": [
    "print('Train Accuracy: ' + str(best_model.score(X_train, y_train)))\n",
    "calc_scores(best_model, X_train,y_train, X_test, y_test, label=name, plotroc=False)"
   ]
  },
  {
   "cell_type": "code",
   "execution_count": null,
   "metadata": {},
   "outputs": [],
   "source": []
  }
 ],
 "metadata": {
  "kernelspec": {
   "display_name": "Python 3",
   "language": "python",
   "name": "python3"
  },
  "language_info": {
   "codemirror_mode": {
    "name": "ipython",
    "version": 3
   },
   "file_extension": ".py",
   "mimetype": "text/x-python",
   "name": "python",
   "nbconvert_exporter": "python",
   "pygments_lexer": "ipython3",
   "version": "3.8.2"
  }
 },
 "nbformat": 4,
 "nbformat_minor": 4
}
