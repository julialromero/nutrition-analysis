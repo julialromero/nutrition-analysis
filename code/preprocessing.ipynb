{
 "cells": [
  {
   "cell_type": "code",
   "execution_count": 12,
   "metadata": {},
   "outputs": [],
   "source": [
    "# packages\n",
    "import pandas as pd\n",
    "import json"
   ]
  },
  {
   "cell_type": "code",
   "execution_count": 2,
   "metadata": {},
   "outputs": [],
   "source": [
    "# variables\n",
    "#tsv_rows = 100         # number of rows to read from tsv total rows (587187)"
   ]
  },
  {
   "cell_type": "code",
   "execution_count": 208,
   "metadata": {},
   "outputs": [],
   "source": [
    "# load the file into pandas\n",
    "\n",
    "df = pd.read_csv('../data/mfp-diaries.tsv', sep='\\t',  header=None, names=['Id', 'Date', 'Meals','Summary'])\n"
   ]
  },
  {
   "cell_type": "code",
   "execution_count": 209,
   "metadata": {},
   "outputs": [],
   "source": [
    "#df = df[df['Id']==2]\n",
    "\n",
    "with open('../data/mfp-diaries.json', 'a') as f:\n",
    "    for col_name, data in df.iterrows():\n",
    "        meals = json.loads(data['Meals'])\n",
    "        build_json = (\"{\\\"id\\\":%s,\\\"date\\\":\\\"%s\\\",\" % (data['Id'],data['Date']))\n",
    "        build_json = build_json + \"\\\"meals\\\":[\"\n",
    "        for meal in meals:\n",
    "            build_json = build_json + (\"{\\\"name\\\":\\\"%s\\\",\" % meal['meal'])\n",
    "            build_json = build_json + \"\\\"dishes\\\":[\"\n",
    "            dishes = meal['dishes']\n",
    "            for dish in dishes:\n",
    "                build_json = build_json + (\"{\\\"name\\\":\\\"%s\\\",\" % dish['name'])\n",
    "                build_json = build_json + (\"\\\"nutrients\\\":[\")\n",
    "                nutritions = dish['nutritions']\n",
    "                for nutrition in nutritions:\n",
    "                    build_json = build_json + (\"{\\\"%s\\\":%s},\" % (nutrition[\"name\"],nutrition[\"value\"]))\n",
    "                build_json = build_json[:-1] + (\"]\")\n",
    "                build_json = build_json + \"},\"\n",
    "            build_json = build_json[:-1] + \"]},\"\n",
    "        build_json = build_json[:-1] + \"],\"\n",
    "        summary = json.loads(data['Summary'])\n",
    "        build_json = build_json + \"\\\"summary\\\":{\\\"total\\\":[\"\n",
    "        totals = summary['total']\n",
    "        for total in totals:\n",
    "            build_json = build_json + (\"{\\\"%s\\\":%s},\" % (total['name'],total['value']))\n",
    "        build_json = build_json[:-1] + \"],\"\n",
    "        build_json = build_json + \"\\\"goal\\\":[\"\n",
    "        goals = summary['goal']\n",
    "        for goal in goals:\n",
    "            build_json = build_json + (\"{\\\"%s\\\":%s},\" % (goal['name'],goal['value']))\n",
    "        build_json = build_json[:-1] + \"]},\"\n",
    "        build_json = build_json[:-1] + \"}\"\n",
    "        #print(build_json)\n",
    "        f.write(build_json + '\\n')\n",
    "        #break;\n",
    "f.close();"
   ]
  },
  {
   "cell_type": "code",
   "execution_count": null,
   "metadata": {},
   "outputs": [],
   "source": []
  }
 ],
 "metadata": {
  "kernelspec": {
   "display_name": "Python 3",
   "language": "python",
   "name": "python3"
  },
  "language_info": {
   "codemirror_mode": {
    "name": "ipython",
    "version": 3
   },
   "file_extension": ".py",
   "mimetype": "text/x-python",
   "name": "python",
   "nbconvert_exporter": "python",
   "pygments_lexer": "ipython3",
   "version": "3.7.6"
  }
 },
 "nbformat": 4,
 "nbformat_minor": 4
}
