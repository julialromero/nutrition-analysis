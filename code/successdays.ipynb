{
 "cells": [
  {
   "cell_type": "code",
   "execution_count": 8,
   "metadata": {
    "collapsed": true
   },
   "outputs": [],
   "source": [
    "# imports\n",
    "import bz2\n",
    "import pickle5 as pickle\n",
    "import pandas as pd\n",
    "\n",
    "from IPython.core.interactiveshell import InteractiveShell\n",
    "InteractiveShell.ast_node_interactivity = \"all\""
   ]
  },
  {
   "cell_type": "code",
   "execution_count": 2,
   "outputs": [],
   "source": [
    "# functions\n",
    "# Load any compressed pickle file\n",
    "def decompress_pickle(file):\n",
    "    data = bz2.BZ2File(file, 'rb')\n",
    "    data = pickle.load(data)\n",
    "    return data"
   ],
   "metadata": {
    "collapsed": false,
    "pycharm": {
     "name": "#%%\n"
    }
   }
  },
  {
   "cell_type": "code",
   "execution_count": 41,
   "outputs": [],
   "source": [
    "df = decompress_pickle('6nutrients.pbz2')\n",
    "\n",
    "df['difference'] = df.apply(lambda x: x['total.calories'] - x['goal.calories'], axis=1)"
   ],
   "metadata": {
    "collapsed": false,
    "pycharm": {
     "name": "#%%\n"
    }
   }
  },
  {
   "cell_type": "code",
   "execution_count": 42,
   "outputs": [],
   "source": [
    "# remove rows with only one day worth of data\n",
    "#df1 = df.groupby('id').filter(lambda x : len(x)>1)\n",
    "\n",
    "#df1['success'] = df1.apply(lambda x: 0 if (x['difference'] < 0 ) else 1, axis=1)\n",
    "\n",
    "# add shiftid column\n",
    "df.insert(2, 'shiftid', df.shift(periods=-1, axis=0)['id'])\n",
    "\n",
    "#df1['new_success'] = df1.apply(lambda x: 0 if (x['id']!=x.shift(periods=1,axis=0)['id']) else 1, axis=1)"
   ],
   "metadata": {
    "collapsed": false,
    "pycharm": {
     "name": "#%%\n"
    }
   }
  },
  {
   "cell_type": "code",
   "execution_count": 31,
   "outputs": [
    {
     "name": "stdout",
     "output_type": "stream",
     "text": [
      "     FN1    FN2  Final\n",
      "0  False  False      1\n",
      "1   True   True      1\n",
      "2  False  False      1\n",
      "3   True  False      2\n",
      "4   True   True      2\n",
      "5  False  False      1\n",
      "6   True   True      1\n",
      "7   True   True      1\n"
     ]
    }
   ],
   "source": [
    "#"
   ],
   "metadata": {
    "collapsed": false,
    "pycharm": {
     "name": "#%%\n"
    }
   }
  }
 ],
 "metadata": {
  "kernelspec": {
   "display_name": "Python 3",
   "language": "python",
   "name": "python3"
  },
  "language_info": {
   "codemirror_mode": {
    "name": "ipython",
    "version": 2
   },
   "file_extension": ".py",
   "mimetype": "text/x-python",
   "name": "python",
   "nbconvert_exporter": "python",
   "pygments_lexer": "ipython2",
   "version": "2.7.6"
  }
 },
 "nbformat": 4,
 "nbformat_minor": 0
}