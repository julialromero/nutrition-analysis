{
 "cells": [
  {
   "cell_type": "code",
   "execution_count": 1,
   "metadata": {
    "collapsed": true
   },
   "outputs": [],
   "source": [
    "# imports\n",
    "import bz2\n",
    "import pickle5 as pickle\n",
    "import pandas as pd\n",
    "\n",
    "from IPython.core.interactiveshell import InteractiveShell\n",
    "InteractiveShell.ast_node_interactivity = \"all\""
   ]
  },
  {
   "cell_type": "code",
   "execution_count": 2,
   "outputs": [],
   "source": [
    "# functions\n",
    "# Load any compressed pickle file\n",
    "def decompress_pickle(file):\n",
    "    data = bz2.BZ2File(file, 'rb')\n",
    "    data = pickle.load(data)\n",
    "    return data"
   ],
   "metadata": {
    "collapsed": false,
    "pycharm": {
     "name": "#%%\n"
    }
   }
  },
  {
   "cell_type": "code",
   "execution_count": 3,
   "outputs": [],
   "source": [
    "\n",
    "\n",
    "df = decompress_pickle('6nutrients.pbz2')\n",
    "\n",
    "df['difference'] = df.apply(lambda x: x['total.calories'] - x['goal.calories'], axis=1)"
   ],
   "metadata": {
    "collapsed": false,
    "pycharm": {
     "name": "#%%\n"
    }
   }
  },
  {
   "cell_type": "code",
   "execution_count": 11,
   "outputs": [
    {
     "data": {
      "text/plain": " 0    460547\n 1     49882\n-1      8713\nName: new_success, dtype: int64"
     },
     "execution_count": 11,
     "metadata": {},
     "output_type": "execute_result"
    }
   ],
   "source": [
    "def score_diff(id, shiftid, diff, shiftdiff):\n",
    "    if id!=shiftid or shiftid==pd.isnull:\n",
    "        return -1\n",
    "    elif shiftdiff>=0 and diff>=0:\n",
    "        return 1\n",
    "    else:\n",
    "        return 0\n",
    "\n",
    "df1 = df.copy()\n",
    "# remove rows with only one day worth of data\n",
    "#df1 = df.groupby('id').filter(lambda x : len(x)>1)\n",
    "\n",
    "#df1['success'] = df1.apply(lambda x: 0 if (x['difference'] < 0 ) else 1, axis=1)\n",
    "\n",
    "# add shiftid column\n",
    "df1.insert(1, 'shiftid', df1.shift(periods=-1, axis=0)['id'])\n",
    "df1['shiffdiff1'] =  df1.shift(periods=-1, axis=0)['difference']\n",
    "\n",
    "df1['new_success'] = df1.apply(lambda x: score_diff(x['id'],x['shiftid'],x['difference'],x['shiffdiff1']), axis=1)\n",
    "\n",
    "df1['new_success'].value_counts()"
   ],
   "metadata": {
    "collapsed": false,
    "pycharm": {
     "name": "#%%\n"
    }
   }
  },
  {
   "cell_type": "code",
   "execution_count": 5,
   "outputs": [],
   "source": [
    "#"
   ],
   "metadata": {
    "collapsed": false,
    "pycharm": {
     "name": "#%%\n"
    }
   }
  }
 ],
 "metadata": {
  "kernelspec": {
   "display_name": "Python 3",
   "language": "python",
   "name": "python3"
  },
  "language_info": {
   "codemirror_mode": {
    "name": "ipython",
    "version": 2
   },
   "file_extension": ".py",
   "mimetype": "text/x-python",
   "name": "python",
   "nbconvert_exporter": "python",
   "pygments_lexer": "ipython2",
   "version": "2.7.6"
  }
 },
 "nbformat": 4,
 "nbformat_minor": 0
}