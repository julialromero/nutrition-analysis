{
 "cells": [
  {
   "cell_type": "code",
   "execution_count": null,
   "metadata": {
    "collapsed": true
   },
   "outputs": [],
   "source": [
    "# imports\n",
    "import bz2\n",
    "import pickle5 as pickle\n",
    "import pandas as pd\n",
    "\n",
    "from IPython.core.interactiveshell import InteractiveShell\n",
    "InteractiveShell.ast_node_interactivity = \"all\""
   ]
  },
  {
   "cell_type": "code",
   "execution_count": null,
   "outputs": [],
   "source": [
    "# functions\n",
    "# Load any compressed pickle file\n",
    "def decompress_pickle(file):\n",
    "    data = bz2.BZ2File(file, 'rb')\n",
    "    data = pickle.load(data)\n",
    "    return data"
   ],
   "metadata": {
    "collapsed": false,
    "pycharm": {
     "name": "#%%\n"
    }
   }
  },
  {
   "cell_type": "code",
   "execution_count": null,
   "outputs": [],
   "source": [
    "\n",
    "\n",
    "df = decompress_pickle('6nutrients.pbz2')\n",
    "\n"
   ],
   "metadata": {
    "collapsed": false,
    "pycharm": {
     "name": "#%%\n"
    }
   }
  },
  {
   "cell_type": "code",
   "execution_count": 19,
   "outputs": [
    {
     "name": "stdout",
     "output_type": "stream",
     "text": [
      "Day: 1\n",
      "Day: 2\n",
      "Day: 3\n",
      "Day: 4\n",
      "Day: 5\n",
      "Day: 6\n",
      "Day: 7\n",
      "Day: 8\n",
      "Day: 9\n"
     ]
    },
    {
     "data": {
      "text/plain": " 0    454197\n 1     49506\n-1      6846\nName: new_success1, dtype: int64"
     },
     "execution_count": 19,
     "metadata": {},
     "output_type": "execute_result"
    },
    {
     "data": {
      "text/plain": " 0    450477\n 1     46380\n-1     13692\nName: new_success2, dtype: int64"
     },
     "execution_count": 19,
     "metadata": {},
     "output_type": "execute_result"
    },
    {
     "data": {
      "text/plain": " 0    445476\n 1     44535\n-1     20538\nName: new_success3, dtype: int64"
     },
     "execution_count": 19,
     "metadata": {},
     "output_type": "execute_result"
    },
    {
     "data": {
      "text/plain": " 0    439752\n 1     43413\n-1     27384\nName: new_success4, dtype: int64"
     },
     "execution_count": 19,
     "metadata": {},
     "output_type": "execute_result"
    },
    {
     "data": {
      "text/plain": " 0    433722\n 1     42597\n-1     34230\nName: new_success5, dtype: int64"
     },
     "execution_count": 19,
     "metadata": {},
     "output_type": "execute_result"
    },
    {
     "data": {
      "text/plain": " 0    427163\n 1     42310\n-1     41076\nName: new_success6, dtype: int64"
     },
     "execution_count": 19,
     "metadata": {},
     "output_type": "execute_result"
    },
    {
     "data": {
      "text/plain": " 0    420014\n-1     47922\n 1     42613\nName: new_success7, dtype: int64"
     },
     "execution_count": 19,
     "metadata": {},
     "output_type": "execute_result"
    },
    {
     "data": {
      "text/plain": " 0    415372\n-1     54768\n 1     40409\nName: new_success8, dtype: int64"
     },
     "execution_count": 19,
     "metadata": {},
     "output_type": "execute_result"
    },
    {
     "data": {
      "text/plain": " 0    410132\n-1     61614\n 1     38803\nName: new_success9, dtype: int64"
     },
     "execution_count": 19,
     "metadata": {},
     "output_type": "execute_result"
    }
   ],
   "source": [
    "def score_diff(id, shiftid, diff, shiftdiff):\n",
    "    if id!=shiftid or shiftid==pd.isnull:\n",
    "        return -1\n",
    "    elif diff>=0 and shiftdiff>=0:\n",
    "        return 1\n",
    "    else:\n",
    "        return 0\n",
    "\n",
    "df1 = df.copy()\n",
    "\n",
    "days = 10\n",
    "\n",
    "for day in range(1,days):\n",
    "\n",
    "    if day > 2:\n",
    "        # we can drop old columns to save some space\n",
    "        df1 = df1.drop(columns=['difference'+str(day-2),'shiftid'+str(day-1),'shiftdiff'+str(day-1)])\n",
    "\n",
    "\n",
    "    if day > 1:\n",
    "        # shift the difference\n",
    "        df1.insert(1, 'difference'+str(day-1), df1.shift(periods=-day, axis=0)['difference0'])\n",
    "    else:\n",
    "        df1['difference'+str(day-1)] = df.apply(lambda x: x['total.calories'] - x['goal.calories'], axis=1)\n",
    "\n",
    "    # remove rows with only one day worth of data\n",
    "    df1 = df1.groupby('id').filter(lambda x : len(x)>days)\n",
    "\n",
    "\n",
    "\n",
    "    # add shiftid column\n",
    "    df1.insert(1, 'shiftid'+str(day), df1.shift(periods=-day, axis=0)['id'])\n",
    "\n",
    "    df1['shiftdiff'+str(day)] =  df1.shift(periods=-day, axis=0)['difference'+str(day-1)]\n",
    "    df1['new_success'+str(day)] = df1.apply(lambda x: score_diff(x['id'],x['shiftid'+str(day)],x['difference'+str(day-1)],x['shiftdiff'+str(day)]), axis=1)\n",
    "\n",
    "    print(\"Day: \"+str(day))\n",
    "    df1['new_success'+str(day)].value_counts()"
   ],
   "metadata": {
    "collapsed": false,
    "pycharm": {
     "name": "#%%\n"
    }
   }
  },
  {
   "cell_type": "code",
   "execution_count": null,
   "outputs": [],
   "source": [
    "#"
   ],
   "metadata": {
    "collapsed": false,
    "pycharm": {
     "name": "#%%\n"
    }
   }
  }
 ],
 "metadata": {
  "kernelspec": {
   "display_name": "Python 3",
   "language": "python",
   "name": "python3"
  },
  "language_info": {
   "codemirror_mode": {
    "name": "ipython",
    "version": 2
   },
   "file_extension": ".py",
   "mimetype": "text/x-python",
   "name": "python",
   "nbconvert_exporter": "python",
   "pygments_lexer": "ipython2",
   "version": "2.7.6"
  }
 },
 "nbformat": 4,
 "nbformat_minor": 0
}